{
 "cells": [
  {
   "cell_type": "code",
   "execution_count": 9,
   "metadata": {},
   "outputs": [],
   "source": [
    "from pathlib import Path\n",
    "from datetime import date\n",
    "import pandas as pd\n",
    "import numpy as np\n",
    "import matplotlib.pyplot as plt"
   ]
  },
  {
   "cell_type": "code",
   "execution_count": 10,
   "metadata": {},
   "outputs": [],
   "source": [
    "#Se quiere que este código perdure en el tiempo, por tanto, se genera el código para que lea todos los excel  hasta el año actual\n",
    "today = date.today()\n",
    "#Los datos de producción se obtienen desde el año 2013\n",
    "primeraño=2013\n",
    "añoactual=today.year\n",
    "#Un rango de fechas desde el 2013 hasta el año actual\n",
    "años = range(primeraño,añoactual+1,1)\n",
    "#Se crea una función para leer los nombres de los archivos que estan ubicados en el directorio\n",
    "def ls(ruta = Path.cwd()):\n",
    "    return [arch.name for arch in Path(ruta).iterdir() if arch.is_file()]\n",
    "#Se establece como ruta una carpeta llamada \"Datos\" dentro del directorio actual\n",
    "files=ls(\"Datos/\")\n",
    "for año in años:\n",
    "    for file in files:\n",
    "        añotemp = file[file.find('2'):file.find('2')+4]\n",
    "        if int(año) == int(añotemp):\n",
    "            #Se leen los documentos de excel que están en el directorio especificado. Se limita las columnas de la A a la Q\n",
    "            globals()[\"año\" + str(año)] = pd.read_excel('Datos/'+file,usecols='A:Q')\n",
    "            #Se eliminan las filas con valores nulos, para así quitar encabezados y totalizadores\n",
    "            globals()[\"año\" + str(año)]=globals()[\"año\" + str(año)].dropna().reset_index(drop=True)\n",
    "            #La primera fila pasa a ser el encabezado del data frame\n",
    "            globals()[\"año\" + str(año)]=globals()[\"año\" + str(año)].rename(columns= globals()[\"año\" + str(año)].iloc[0]).drop(0)"
   ]
  },
  {
   "cell_type": "markdown",
   "metadata": {},
   "source": [
    "# Datos oficiales"
   ]
  },
  {
   "cell_type": "markdown",
   "metadata": {},
   "source": [
    "# 1"
   ]
  },
  {
   "cell_type": "code",
   "execution_count": 11,
   "metadata": {},
   "outputs": [],
   "source": [
    "column2020=año2020.columns\n",
    "\n",
    "for col in range(0,len(column2020)):\n",
    "    if column2020[col] == 'enero':\n",
    "        j=col\n",
    "table2020 = pd.melt(año2020, id_vars=column2020[0:j], var_name=\"mes\", value_name=\"aceite\")\n",
    "campo2020 = pd.pivot_table(table2020, values='aceite', index=['Campo'], aggfunc=np.sum).sort_values(by='aceite', ascending=False, na_position='first')\n",
    "top2020campos=campo2020[0:5]"
   ]
  },
  {
   "cell_type": "code",
   "execution_count": 12,
   "metadata": {},
   "outputs": [
    {
     "data": {
      "text/html": [
       "<div>\n",
       "<style scoped>\n",
       "    .dataframe tbody tr th:only-of-type {\n",
       "        vertical-align: middle;\n",
       "    }\n",
       "\n",
       "    .dataframe tbody tr th {\n",
       "        vertical-align: top;\n",
       "    }\n",
       "\n",
       "    .dataframe thead th {\n",
       "        text-align: right;\n",
       "    }\n",
       "</style>\n",
       "<table border=\"1\" class=\"dataframe\">\n",
       "  <thead>\n",
       "    <tr style=\"text-align: right;\">\n",
       "      <th></th>\n",
       "      <th>aceite</th>\n",
       "    </tr>\n",
       "    <tr>\n",
       "      <th>Campo</th>\n",
       "      <th></th>\n",
       "    </tr>\n",
       "  </thead>\n",
       "  <tbody>\n",
       "    <tr>\n",
       "      <th>RUBIALES</th>\n",
       "      <td>857001.07</td>\n",
       "    </tr>\n",
       "    <tr>\n",
       "      <th>CASTILLA</th>\n",
       "      <td>537068.14</td>\n",
       "    </tr>\n",
       "    <tr>\n",
       "      <th>CHICHIMENE</th>\n",
       "      <td>388023.81</td>\n",
       "    </tr>\n",
       "    <tr>\n",
       "      <th>CASTILLA NORTE</th>\n",
       "      <td>380005.77</td>\n",
       "    </tr>\n",
       "    <tr>\n",
       "      <th>QUIFA</th>\n",
       "      <td>304783.67</td>\n",
       "    </tr>\n",
       "  </tbody>\n",
       "</table>\n",
       "</div>"
      ],
      "text/plain": [
       "                   aceite\n",
       "Campo                    \n",
       "RUBIALES        857001.07\n",
       "CASTILLA        537068.14\n",
       "CHICHIMENE      388023.81\n",
       "CASTILLA NORTE  380005.77\n",
       "QUIFA           304783.67"
      ]
     },
     "execution_count": 12,
     "metadata": {},
     "output_type": "execute_result"
    }
   ],
   "source": [
    "top2020campos"
   ]
  },
  {
   "cell_type": "code",
   "execution_count": 13,
   "metadata": {
    "scrolled": true
   },
   "outputs": [
    {
     "data": {
      "image/png": "[encoded data removed]",
      "text/plain": [
       "<Figure size 432x288 with 1 Axes>"
      ]
     },
     "metadata": {
      "needs_background": "light"
     },
     "output_type": "display_data"
    }
   ],
   "source": [
    "plot = top2020campos.plot(kind='bar', title='Top 5 de campos de mayor producción de petróleo en 2020')"
   ]
  },
  {
   "cell_type": "markdown",
   "metadata": {},
   "source": [
    "# 2"
   ]
  },
  {
   "cell_type": "code",
   "execution_count": 14,
   "metadata": {},
   "outputs": [],
   "source": [
    "column2018=año2018.columns\n",
    "\n",
    "for col in range(0,len(column2018)):\n",
    "    if column2018[col] == 'enero':\n",
    "        j=col\n",
    "table2018 = pd.melt(año2018, id_vars=column2018[0:j], var_name=\"mes\", value_name=\"aceite\")\n",
    "campo2018 = pd.pivot_table(table2018, values='aceite', index=['Departamento','Operadora','Campo'], aggfunc=np.sum).sort_values(by='aceite', ascending=False, na_position='first').reset_index(level='Departamento')\n",
    "campo2018=campo2018[campo2018['aceite']!= 0]\n",
    "campo2018cas= campo2018[campo2018['Departamento']=='CASANARE'].drop('Departamento',axis=1).reset_index()\n"
   ]
  },
  {
   "cell_type": "code",
   "execution_count": 15,
   "metadata": {},
   "outputs": [
    {
     "data": {
      "text/html": [
       "<div>\n",
       "<style scoped>\n",
       "    .dataframe tbody tr th:only-of-type {\n",
       "        vertical-align: middle;\n",
       "    }\n",
       "\n",
       "    .dataframe tbody tr th {\n",
       "        vertical-align: top;\n",
       "    }\n",
       "\n",
       "    .dataframe thead th {\n",
       "        text-align: right;\n",
       "    }\n",
       "</style>\n",
       "<table border=\"1\" class=\"dataframe\">\n",
       "  <thead>\n",
       "    <tr style=\"text-align: right;\">\n",
       "      <th></th>\n",
       "      <th>Operadora</th>\n",
       "    </tr>\n",
       "  </thead>\n",
       "  <tbody>\n",
       "    <tr>\n",
       "      <th>PERENCO COLOMBIA LIMITED</th>\n",
       "      <td>34</td>\n",
       "    </tr>\n",
       "    <tr>\n",
       "      <th>Frontera Energy Colombia Corp Sucursal Colombia</th>\n",
       "      <td>34</td>\n",
       "    </tr>\n",
       "    <tr>\n",
       "      <th>GEOPARK COLOMBIA S.A.S.</th>\n",
       "      <td>20</td>\n",
       "    </tr>\n",
       "    <tr>\n",
       "      <th>ECOPETROL S.A.</th>\n",
       "      <td>9</td>\n",
       "    </tr>\n",
       "    <tr>\n",
       "      <th>PAREX RESOURCES COLOMBIA LTD. SUCURSAL</th>\n",
       "      <td>7</td>\n",
       "    </tr>\n",
       "    <tr>\n",
       "      <th>COLOMBIA ENERGY DEVELOPMENT CO</th>\n",
       "      <td>6</td>\n",
       "    </tr>\n",
       "    <tr>\n",
       "      <th>NEW GRANADA ENERGY CORPORATION SUCURSAL COLOMBIA</th>\n",
       "      <td>6</td>\n",
       "    </tr>\n",
       "    <tr>\n",
       "      <th>CEPSA COLOMBIA S.A.</th>\n",
       "      <td>6</td>\n",
       "    </tr>\n",
       "    <tr>\n",
       "      <th>LEWIS ENERGY COLOMBIA INC</th>\n",
       "      <td>5</td>\n",
       "    </tr>\n",
       "    <tr>\n",
       "      <th>CARRAO ENERGY S.A. SUCURSAL COLOMIBA</th>\n",
       "      <td>5</td>\n",
       "    </tr>\n",
       "  </tbody>\n",
       "</table>\n",
       "</div>"
      ],
      "text/plain": [
       "                                                  Operadora\n",
       "PERENCO COLOMBIA LIMITED                                 34\n",
       "Frontera Energy Colombia Corp Sucursal Colombia          34\n",
       "GEOPARK COLOMBIA S.A.S.                                  20\n",
       "ECOPETROL S.A.                                            9\n",
       "PAREX RESOURCES COLOMBIA LTD. SUCURSAL                    7\n",
       "COLOMBIA ENERGY DEVELOPMENT CO                            6\n",
       "NEW GRANADA ENERGY CORPORATION SUCURSAL COLOMBIA          6\n",
       "CEPSA COLOMBIA S.A.                                       6\n",
       "LEWIS ENERGY COLOMBIA INC                                 5\n",
       "CARRAO ENERGY S.A. SUCURSAL COLOMIBA                      5"
      ]
     },
     "execution_count": 15,
     "metadata": {},
     "output_type": "execute_result"
    }
   ],
   "source": [
    "campo2018cascount=campo2018cas['Operadora'].value_counts().to_frame()\n",
    "campo2018cascount=campo2018cascount[campo2018cascount['Operadora']>=5]\n",
    "campo2018cascount"
   ]
  },
  {
   "cell_type": "code",
   "execution_count": 16,
   "metadata": {},
   "outputs": [
    {
     "data": {
      "image/png": "[encoded data removed]",
      "text/plain": [
       "<Figure size 432x288 with 1 Axes>"
      ]
     },
     "metadata": {
      "needs_background": "light"
     },
     "output_type": "display_data"
    }
   ],
   "source": [
    "plot = campo2018cascount.plot(kind='bar', title='Operadoras que resportaron producción en más de 5 campos de Casanare en 2018')"
   ]
  },
  {
   "cell_type": "markdown",
   "metadata": {},
   "source": [
    "# 3"
   ]
  },
  {
   "cell_type": "code",
   "execution_count": 17,
   "metadata": {},
   "outputs": [],
   "source": [
    "contrato2018 = pd.pivot_table(table2018, values='aceite', index=['Contrato'], aggfunc=np.sum).sort_values(by='aceite', ascending=False, na_position='first')\n",
    "top2018contratos=contrato2018[0:5]/1000000"
   ]
  },
  {
   "cell_type": "code",
   "execution_count": 18,
   "metadata": {},
   "outputs": [
    {
     "data": {
      "text/html": [
       "<div>\n",
       "<style scoped>\n",
       "    .dataframe tbody tr th:only-of-type {\n",
       "        vertical-align: middle;\n",
       "    }\n",
       "\n",
       "    .dataframe tbody tr th {\n",
       "        vertical-align: top;\n",
       "    }\n",
       "\n",
       "    .dataframe thead th {\n",
       "        text-align: right;\n",
       "    }\n",
       "</style>\n",
       "<table border=\"1\" class=\"dataframe\">\n",
       "  <thead>\n",
       "    <tr style=\"text-align: right;\">\n",
       "      <th></th>\n",
       "      <th>aceite</th>\n",
       "    </tr>\n",
       "    <tr>\n",
       "      <th>Contrato</th>\n",
       "      <th></th>\n",
       "    </tr>\n",
       "  </thead>\n",
       "  <tbody>\n",
       "    <tr>\n",
       "      <th>CUBARRAL</th>\n",
       "      <td>2.177189</td>\n",
       "    </tr>\n",
       "    <tr>\n",
       "      <th>RUBIALES</th>\n",
       "      <td>1.433612</td>\n",
       "    </tr>\n",
       "    <tr>\n",
       "      <th>LLA 34</th>\n",
       "      <td>0.725580</td>\n",
       "    </tr>\n",
       "    <tr>\n",
       "      <th>QUIFA</th>\n",
       "      <td>0.554438</td>\n",
       "    </tr>\n",
       "    <tr>\n",
       "      <th>LA CIRA INFANTAS</th>\n",
       "      <td>0.542415</td>\n",
       "    </tr>\n",
       "  </tbody>\n",
       "</table>\n",
       "</div>"
      ],
      "text/plain": [
       "                    aceite\n",
       "Contrato                  \n",
       "CUBARRAL          2.177189\n",
       "RUBIALES          1.433612\n",
       "LLA 34            0.725580\n",
       "QUIFA             0.554438\n",
       "LA CIRA INFANTAS  0.542415"
      ]
     },
     "execution_count": 18,
     "metadata": {},
     "output_type": "execute_result"
    }
   ],
   "source": [
    "top2018contratos"
   ]
  },
  {
   "cell_type": "code",
   "execution_count": 19,
   "metadata": {},
   "outputs": [
    {
     "data": {
      "image/png": "[encoded data removed]",
      "text/plain": [
       "<Figure size 432x288 with 1 Axes>"
      ]
     },
     "metadata": {
      "needs_background": "light"
     },
     "output_type": "display_data"
    }
   ],
   "source": [
    "plot = top2018contratos.plot(kind='bar', title='Top 5 de contratos de mayor producción de petróleo en 2018')"
   ]
  },
  {
   "cell_type": "markdown",
   "metadata": {},
   "source": [
    "# 4"
   ]
  },
  {
   "cell_type": "code",
   "execution_count": 20,
   "metadata": {},
   "outputs": [],
   "source": [
    "column2019=año2019.columns\n",
    "\n",
    "for col in range(0,len(column2019)):\n",
    "    if column2018[col] == 'enero':\n",
    "        j=col\n",
    "table2019 = pd.melt(año2019, id_vars=column2019[0:j], var_name=\"mes\", value_name=\"aceite\")\n",
    "operadora2019 = pd.pivot_table(table2019, values='aceite', index=['Operadora','mes'], aggfunc=np.sum).sort_values(by='aceite', ascending=False, na_position='first').reset_index(level='mes')\n",
    "operadora2019ago=operadora2019[operadora2019['mes']=='Agosto'].sort_values(by='aceite', ascending=False, na_position='first').drop('mes',axis=1)\n",
    "topoperadora2019ago=operadora2019ago[0:10]"
   ]
  },
  {
   "cell_type": "code",
   "execution_count": 21,
   "metadata": {},
   "outputs": [
    {
     "data": {
      "text/html": [
       "<div>\n",
       "<style scoped>\n",
       "    .dataframe tbody tr th:only-of-type {\n",
       "        vertical-align: middle;\n",
       "    }\n",
       "\n",
       "    .dataframe tbody tr th {\n",
       "        vertical-align: top;\n",
       "    }\n",
       "\n",
       "    .dataframe thead th {\n",
       "        text-align: right;\n",
       "    }\n",
       "</style>\n",
       "<table border=\"1\" class=\"dataframe\">\n",
       "  <thead>\n",
       "    <tr style=\"text-align: right;\">\n",
       "      <th></th>\n",
       "      <th>aceite</th>\n",
       "    </tr>\n",
       "    <tr>\n",
       "      <th>Operadora</th>\n",
       "      <th></th>\n",
       "    </tr>\n",
       "  </thead>\n",
       "  <tbody>\n",
       "    <tr>\n",
       "      <th>ECOPETROL S.A.</th>\n",
       "      <td>473986.41</td>\n",
       "    </tr>\n",
       "    <tr>\n",
       "      <th>Frontera Energy Colombia Corp Sucursal Colombia</th>\n",
       "      <td>81441.68</td>\n",
       "    </tr>\n",
       "    <tr>\n",
       "      <th>GEOPARK COLOMBIA S.A.S.</th>\n",
       "      <td>69154.42</td>\n",
       "    </tr>\n",
       "    <tr>\n",
       "      <th>OCCIDENTAL DE COLOMBIA LLC</th>\n",
       "      <td>53299.12</td>\n",
       "    </tr>\n",
       "    <tr>\n",
       "      <th>EQUION ENERGÍA LIMITED</th>\n",
       "      <td>34950.01</td>\n",
       "    </tr>\n",
       "    <tr>\n",
       "      <th>GRAN TIERRA ENERGY COLOMBIA LTD</th>\n",
       "      <td>29555.20</td>\n",
       "    </tr>\n",
       "    <tr>\n",
       "      <th>MANSAROVAR ENERGY COLOMBIA LTD</th>\n",
       "      <td>25256.75</td>\n",
       "    </tr>\n",
       "    <tr>\n",
       "      <th>HOCOL S.A.</th>\n",
       "      <td>19614.02</td>\n",
       "    </tr>\n",
       "    <tr>\n",
       "      <th>PAREX RESOURCES COLOMBIA LTD. SUCURSAL</th>\n",
       "      <td>15727.97</td>\n",
       "    </tr>\n",
       "    <tr>\n",
       "      <th>CEPSA COLOMBIA S.A.</th>\n",
       "      <td>12702.09</td>\n",
       "    </tr>\n",
       "  </tbody>\n",
       "</table>\n",
       "</div>"
      ],
      "text/plain": [
       "                                                    aceite\n",
       "Operadora                                                 \n",
       "ECOPETROL S.A.                                   473986.41\n",
       "Frontera Energy Colombia Corp Sucursal Colombia   81441.68\n",
       "GEOPARK COLOMBIA S.A.S.                           69154.42\n",
       "OCCIDENTAL DE COLOMBIA LLC                        53299.12\n",
       "EQUION ENERGÍA LIMITED                            34950.01\n",
       "GRAN TIERRA ENERGY COLOMBIA LTD                   29555.20\n",
       "MANSAROVAR ENERGY COLOMBIA LTD                    25256.75\n",
       "HOCOL S.A.                                        19614.02\n",
       "PAREX RESOURCES COLOMBIA LTD. SUCURSAL            15727.97\n",
       "CEPSA COLOMBIA S.A.                               12702.09"
      ]
     },
     "execution_count": 21,
     "metadata": {},
     "output_type": "execute_result"
    }
   ],
   "source": [
    "topoperadora2019ago"
   ]
  },
  {
   "cell_type": "code",
   "execution_count": 22,
   "metadata": {},
   "outputs": [
    {
     "data": {
      "image/png": "[encoded data removed]",
      "text/plain": [
       "<Figure size 432x288 with 1 Axes>"
      ]
     },
     "metadata": {
      "needs_background": "light"
     },
     "output_type": "display_data"
    }
   ],
   "source": [
    "plot = topoperadora2019ago.plot(kind='bar', title='Top 10 de operadoras con mayor producción de petróleo en agosto de 2019')"
   ]
  },
  {
   "cell_type": "markdown",
   "metadata": {},
   "source": [
    "# 5"
   ]
  },
  {
   "cell_type": "code",
   "execution_count": 50,
   "metadata": {},
   "outputs": [],
   "source": [
    "Q1=['enero','febrero','marzo']\n",
    "Q2=['abril','mayo','junio']"
   ]
  },
  {
   "cell_type": "code",
   "execution_count": 54,
   "metadata": {},
   "outputs": [],
   "source": [
    "meses2019 = pd.pivot_table(table2019, values='aceite', index=['mes'], aggfunc=np.sum).sort_values(by='aceite', ascending=False, na_position='first').reset_index(level='mes')\n",
    "meses2019['mes']=meses2019['mes'].apply(lambda x: x.lower())\n",
    "T12019=meses2019[meses2019['mes'].isin(Q1)].reset_index(drop=True)\n",
    "T22019=meses2019[meses2019['mes'].isin(Q2)].reset_index(drop=True)\n",
    "meses2020 = pd.pivot_table(table2020, values='aceite', index=['mes'], aggfunc=np.sum).sort_values(by='aceite', ascending=False, na_position='first').reset_index(level='mes')\n",
    "meses2020['mes']=meses2020['mes'].apply(lambda x: x.lower())\n",
    "T12020=meses2020[meses2020['mes'].isin(Q1)].reset_index(drop=True)\n",
    "T22020=meses2020[meses2020['mes'].isin(Q2)].reset_index(drop=True)"
   ]
  },
  {
   "cell_type": "code",
   "execution_count": 70,
   "metadata": {},
   "outputs": [
    {
     "data": {
      "text/html": [
       "<div>\n",
       "<style scoped>\n",
       "    .dataframe tbody tr th:only-of-type {\n",
       "        vertical-align: middle;\n",
       "    }\n",
       "\n",
       "    .dataframe tbody tr th {\n",
       "        vertical-align: top;\n",
       "    }\n",
       "\n",
       "    .dataframe thead th {\n",
       "        text-align: right;\n",
       "    }\n",
       "</style>\n",
       "<table border=\"1\" class=\"dataframe\">\n",
       "  <thead>\n",
       "    <tr style=\"text-align: right;\">\n",
       "      <th></th>\n",
       "      <th>Trimestre 1</th>\n",
       "      <th>Trimestre 2</th>\n",
       "    </tr>\n",
       "    <tr>\n",
       "      <th>Año</th>\n",
       "      <th></th>\n",
       "      <th></th>\n",
       "    </tr>\n",
       "  </thead>\n",
       "  <tbody>\n",
       "    <tr>\n",
       "      <th>2019</th>\n",
       "      <td>2676538.43</td>\n",
       "      <td>2.677717e+06</td>\n",
       "    </tr>\n",
       "    <tr>\n",
       "      <th>2020</th>\n",
       "      <td>2619416.71</td>\n",
       "      <td>2.258345e+06</td>\n",
       "    </tr>\n",
       "  </tbody>\n",
       "</table>\n",
       "</div>"
      ],
      "text/plain": [
       "      Trimestre 1   Trimestre 2\n",
       "Año                            \n",
       "2019   2676538.43  2.677717e+06\n",
       "2020   2619416.71  2.258345e+06"
      ]
     },
     "execution_count": 70,
     "metadata": {},
     "output_type": "execute_result"
    }
   ],
   "source": [
    "trim1920 = pd.DataFrame({\"Año\": [2019,2020], \"Trimestre 1\": [T12019['aceite'].sum(),T12020['aceite'].sum()], \"Trimestre 2\": [T22019['aceite'].sum(),T22020['aceite'].sum()]})\n",
    "trim1920.set_index(\"Año\")"
   ]
  },
  {
   "cell_type": "code",
   "execution_count": 71,
   "metadata": {
    "scrolled": true
   },
   "outputs": [
    {
     "data": {
      "image/png": "[encoded data removed]",
      "text/plain": [
       "<Figure size 720x288 with 1 Axes>"
      ]
     },
     "metadata": {
      "needs_background": "light"
     },
     "output_type": "display_data"
    }
   ],
   "source": [
    "coloresMedallas = ['#FFD700','#C0C0C0']\n",
    "\n",
    "trim1920.plot(kind = 'bar',\n",
    "             width=0.8,\n",
    "             figsize=(10,4),\n",
    "             color = coloresMedallas);"
   ]
  }
 ],
 "metadata": {
  "kernelspec": {
   "display_name": "Python 3",
   "language": "python",
   "name": "python3"
  },
  "language_info": {
   "codemirror_mode": {
    "name": "ipython",
    "version": 3
   },
   "file_extension": ".py",
   "mimetype": "text/x-python",
   "name": "python",
   "nbconvert_exporter": "python",
   "pygments_lexer": "ipython3",
   "version": "3.7.6"
  }
 },
 "nbformat": 4,
 "nbformat_minor": 4
}
