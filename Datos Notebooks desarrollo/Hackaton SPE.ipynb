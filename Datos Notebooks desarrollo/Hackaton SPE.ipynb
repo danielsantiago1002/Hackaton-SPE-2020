{
 "cells": [
  {
   "cell_type": "code",
   "execution_count": 1,
   "metadata": {},
   "outputs": [],
   "source": [
    "from pathlib import Path\n",
    "from datetime import date , datetime\n",
    "import pandas as pd\n",
    "import numpy as np\n",
    "import matplotlib.pyplot as plt\n",
    "import seaborn as sns\n",
    "import warnings\n",
    "from scipy.optimize import curve_fit\n",
    "warnings.filterwarnings(\"ignore\")"
   ]
  },
  {
   "cell_type": "markdown",
   "metadata": {},
   "source": [
    "# Lectura y procesamiento de los datos"
   ]
  },
  {
   "cell_type": "markdown",
   "metadata": {},
   "source": [
    "Luego de procesar estos datos se creará un df que contenga el compilado de todos los datos oficiales y blind test en el númeral \n",
    "- Tabla de datos oficiales\n",
    "- Tabla de datos blind"
   ]
  },
  {
   "cell_type": "code",
   "execution_count": 2,
   "metadata": {},
   "outputs": [],
   "source": [
    "#Se quiere que este código perdure en el tiempo, por tanto, se genera el código para que lea todos los excel  hasta el año actual\n",
    "today = date.today()\n",
    "#Los datos de producción se obtienen desde el año 2013\n",
    "primeraño=2013\n",
    "añoactual=today.year\n",
    "#Un rango de fechas desde el 2013 hasta el año actual\n",
    "años = range(primeraño,añoactual+1,1)\n",
    "#Se crea una función para leer los nombres de los archivos que estan ubicados en el directorio\n",
    "def ls(ruta = Path.cwd()):\n",
    "    return [arch.name for arch in Path(ruta).iterdir() if arch.is_file()]\n",
    "#Se establece como ruta una carpeta llamada \"Datos\" dentro del directorio actual\n",
    "files=ls(\"Datos/\")\n",
    "for año in años:\n",
    "    for file in files:\n",
    "        añotemp = file[file.find('2'):file.find('2')+4]\n",
    "        if int(año) == int(añotemp):\n",
    "            #Se leen los documentos de excel que están en el directorio especificado. Se limita las columnas de la A a la Q\n",
    "            globals()[\"año\" + str(año)] = pd.read_excel('Datos/'+file,usecols='A:Q')\n",
    "            #Se eliminan las filas con valores nulos, para así quitar encabezados y totalizadores\n",
    "            globals()[\"año\" + str(año)]=globals()[\"año\" + str(año)].dropna().reset_index(drop=True)\n",
    "            #La primera fila pasa a ser el encabezado del data frame\n",
    "            globals()[\"año\" + str(año)]=globals()[\"año\" + str(año)].rename(columns= globals()[\"año\" + str(año)].iloc[0]).drop(0)\n",
    "#Dando formato al encabezado\n",
    "años=[año2013,año2014,año2015,año2016,año2017,año2018,año2019,año2020]\n",
    "for año in años:\n",
    "    año.columns = año.columns.str.upper()\n",
    "    año.columns = año.columns.str.strip()\n",
    "#Estandarizamos los encabezados para todas las empresas\n",
    "año2013 = año2013.rename(columns={'EMPRESA': 'OPERADORA'})\n",
    "año2014 = año2014.rename(columns={'EMPRESA': 'OPERADORA'})\n",
    "#Eliminando la columna que solo aparece en los años 2013 - 2014\n",
    "año2013.drop(columns=['CUENCA'],inplace=True)\n",
    "año2014.drop(columns=['CUENCA'],inplace=True)"
   ]
  },
  {
   "cell_type": "markdown",
   "metadata": {},
   "source": [
    "# Datos oficiales"
   ]
  },
  {
   "cell_type": "markdown",
   "metadata": {},
   "source": [
    "# 1"
   ]
  },
  {
   "cell_type": "code",
   "execution_count": 3,
   "metadata": {},
   "outputs": [],
   "source": [
    "#Hago una lista con los nombres de las columnas del dataframe\n",
    "column2020=año2020.columns\n",
    "#hallo la posición de la columna que contiene a Enero\n",
    "for col in range(0,len(column2020)):\n",
    "    if column2020[col].lower() == 'enero':\n",
    "        j=col\n",
    "#Paso de formato wide a long sabiendo cual es la columna que contiene a enero, lugar desde el cual queremos hacer el pivote\n",
    "table2020 = pd.melt(año2020, id_vars=column2020[0:j], var_name=\"MES\", value_name=\"ACEITE\")\n",
    "#Agrupo por campo\n",
    "campo2020 = pd.pivot_table(table2020, values='ACEITE', index=['CAMPO'], aggfunc=np.sum).sort_values(by='ACEITE', ascending=False, na_position='first')\n",
    "#Al agrupar también ordené de mayor a menor, por tanto el top 5 es igual a las primeras 5 filas\n",
    "top2020campos=campo2020[0:5]"
   ]
  },
  {
   "cell_type": "code",
   "execution_count": 4,
   "metadata": {},
   "outputs": [
    {
     "data": {
      "text/html": [
       "<div>\n",
       "<style scoped>\n",
       "    .dataframe tbody tr th:only-of-type {\n",
       "        vertical-align: middle;\n",
       "    }\n",
       "\n",
       "    .dataframe tbody tr th {\n",
       "        vertical-align: top;\n",
       "    }\n",
       "\n",
       "    .dataframe thead th {\n",
       "        text-align: right;\n",
       "    }\n",
       "</style>\n",
       "<table border=\"1\" class=\"dataframe\">\n",
       "  <thead>\n",
       "    <tr style=\"text-align: right;\">\n",
       "      <th></th>\n",
       "      <th>ACEITE</th>\n",
       "    </tr>\n",
       "    <tr>\n",
       "      <th>CAMPO</th>\n",
       "      <th></th>\n",
       "    </tr>\n",
       "  </thead>\n",
       "  <tbody>\n",
       "    <tr>\n",
       "      <th>RUBIALES</th>\n",
       "      <td>857001.07</td>\n",
       "    </tr>\n",
       "    <tr>\n",
       "      <th>CASTILLA</th>\n",
       "      <td>537068.14</td>\n",
       "    </tr>\n",
       "    <tr>\n",
       "      <th>CHICHIMENE</th>\n",
       "      <td>388023.81</td>\n",
       "    </tr>\n",
       "    <tr>\n",
       "      <th>CASTILLA NORTE</th>\n",
       "      <td>380005.77</td>\n",
       "    </tr>\n",
       "    <tr>\n",
       "      <th>QUIFA</th>\n",
       "      <td>304783.67</td>\n",
       "    </tr>\n",
       "    <tr>\n",
       "      <th>...</th>\n",
       "      <td>...</td>\n",
       "    </tr>\n",
       "    <tr>\n",
       "      <th>CERRO GORDO</th>\n",
       "      <td>0.48</td>\n",
       "    </tr>\n",
       "    <tr>\n",
       "      <th>MARSUPIAL</th>\n",
       "      <td>0.32</td>\n",
       "    </tr>\n",
       "    <tr>\n",
       "      <th>MERECUMBE</th>\n",
       "      <td>0.26</td>\n",
       "    </tr>\n",
       "    <tr>\n",
       "      <th>LILIA</th>\n",
       "      <td>0.24</td>\n",
       "    </tr>\n",
       "    <tr>\n",
       "      <th>LISA</th>\n",
       "      <td>0.03</td>\n",
       "    </tr>\n",
       "  </tbody>\n",
       "</table>\n",
       "<p>385 rows × 1 columns</p>\n",
       "</div>"
      ],
      "text/plain": [
       "                   ACEITE\n",
       "CAMPO                    \n",
       "RUBIALES        857001.07\n",
       "CASTILLA        537068.14\n",
       "CHICHIMENE      388023.81\n",
       "CASTILLA NORTE  380005.77\n",
       "QUIFA           304783.67\n",
       "...                   ...\n",
       "CERRO GORDO          0.48\n",
       "MARSUPIAL            0.32\n",
       "MERECUMBE            0.26\n",
       "LILIA                0.24\n",
       "LISA                 0.03\n",
       "\n",
       "[385 rows x 1 columns]"
      ]
     },
     "execution_count": 4,
     "metadata": {},
     "output_type": "execute_result"
    }
   ],
   "source": [
    "campo2020"
   ]
  },
  {
   "cell_type": "code",
   "execution_count": 5,
   "metadata": {},
   "outputs": [
    {
     "data": {
      "text/html": [
       "<div>\n",
       "<style scoped>\n",
       "    .dataframe tbody tr th:only-of-type {\n",
       "        vertical-align: middle;\n",
       "    }\n",
       "\n",
       "    .dataframe tbody tr th {\n",
       "        vertical-align: top;\n",
       "    }\n",
       "\n",
       "    .dataframe thead th {\n",
       "        text-align: right;\n",
       "    }\n",
       "</style>\n",
       "<table border=\"1\" class=\"dataframe\">\n",
       "  <thead>\n",
       "    <tr style=\"text-align: right;\">\n",
       "      <th></th>\n",
       "      <th>ACEITE</th>\n",
       "    </tr>\n",
       "    <tr>\n",
       "      <th>CAMPO</th>\n",
       "      <th></th>\n",
       "    </tr>\n",
       "  </thead>\n",
       "  <tbody>\n",
       "    <tr>\n",
       "      <th>RUBIALES</th>\n",
       "      <td>857001.07</td>\n",
       "    </tr>\n",
       "    <tr>\n",
       "      <th>CASTILLA</th>\n",
       "      <td>537068.14</td>\n",
       "    </tr>\n",
       "    <tr>\n",
       "      <th>CHICHIMENE</th>\n",
       "      <td>388023.81</td>\n",
       "    </tr>\n",
       "    <tr>\n",
       "      <th>CASTILLA NORTE</th>\n",
       "      <td>380005.77</td>\n",
       "    </tr>\n",
       "    <tr>\n",
       "      <th>QUIFA</th>\n",
       "      <td>304783.67</td>\n",
       "    </tr>\n",
       "  </tbody>\n",
       "</table>\n",
       "</div>"
      ],
      "text/plain": [
       "                   ACEITE\n",
       "CAMPO                    \n",
       "RUBIALES        857001.07\n",
       "CASTILLA        537068.14\n",
       "CHICHIMENE      388023.81\n",
       "CASTILLA NORTE  380005.77\n",
       "QUIFA           304783.67"
      ]
     },
     "execution_count": 5,
     "metadata": {},
     "output_type": "execute_result"
    }
   ],
   "source": [
    "top2020campos"
   ]
  },
  {
   "cell_type": "code",
   "execution_count": 6,
   "metadata": {
    "scrolled": true
   },
   "outputs": [
    {
     "data": {
      "image/png": "[encoded data removed]",
      "text/plain": [
       "<Figure size 432x288 with 1 Axes>"
      ]
     },
     "metadata": {
      "needs_background": "light"
     },
     "output_type": "display_data"
    }
   ],
   "source": [
    "plot = top2020campos.plot(kind='bar', title='Top 5 de campos de mayor producción de petróleo en 2020')"
   ]
  },
  {
   "cell_type": "markdown",
   "metadata": {},
   "source": [
    "# 2"
   ]
  },
  {
   "cell_type": "code",
   "execution_count": 7,
   "metadata": {},
   "outputs": [],
   "source": [
    "#Hago una lista con los nombres de las columnas del dataframe\n",
    "column2018=año2018.columns\n",
    "#hallo la posición de la columna que contiene a Enero\n",
    "for col in range(0,len(column2018)):\n",
    "    if column2018[col].lower() == 'enero':\n",
    "        j=col\n",
    "table2018 = pd.melt(año2018, id_vars=column2018[0:j], var_name=\"MES\", value_name=\"ACEITE\")\n",
    "campo2018 = pd.pivot_table(table2018, values='ACEITE', index=['DEPARTAMENTO','OPERADORA','CAMPO'], aggfunc=np.sum).sort_values(by='ACEITE', ascending=False, na_position='first').reset_index(level='DEPARTAMENTO')\n",
    "campo2018=campo2018[campo2018['ACEITE']!= 0]\n",
    "campo2018cas= campo2018[campo2018['DEPARTAMENTO']=='CASANARE'].drop('DEPARTAMENTO',axis=1).reset_index()\n"
   ]
  },
  {
   "cell_type": "code",
   "execution_count": 8,
   "metadata": {},
   "outputs": [
    {
     "data": {
      "text/html": [
       "<div>\n",
       "<style scoped>\n",
       "    .dataframe tbody tr th:only-of-type {\n",
       "        vertical-align: middle;\n",
       "    }\n",
       "\n",
       "    .dataframe tbody tr th {\n",
       "        vertical-align: top;\n",
       "    }\n",
       "\n",
       "    .dataframe thead th {\n",
       "        text-align: right;\n",
       "    }\n",
       "</style>\n",
       "<table border=\"1\" class=\"dataframe\">\n",
       "  <thead>\n",
       "    <tr style=\"text-align: right;\">\n",
       "      <th></th>\n",
       "      <th>OPERADORA</th>\n",
       "    </tr>\n",
       "  </thead>\n",
       "  <tbody>\n",
       "    <tr>\n",
       "      <th>Frontera Energy Colombia Corp Sucursal Colombia</th>\n",
       "      <td>34</td>\n",
       "    </tr>\n",
       "    <tr>\n",
       "      <th>PERENCO COLOMBIA LIMITED</th>\n",
       "      <td>34</td>\n",
       "    </tr>\n",
       "    <tr>\n",
       "      <th>GEOPARK COLOMBIA S.A.S.</th>\n",
       "      <td>20</td>\n",
       "    </tr>\n",
       "    <tr>\n",
       "      <th>ECOPETROL S.A.</th>\n",
       "      <td>9</td>\n",
       "    </tr>\n",
       "    <tr>\n",
       "      <th>PAREX RESOURCES COLOMBIA LTD. SUCURSAL</th>\n",
       "      <td>7</td>\n",
       "    </tr>\n",
       "    <tr>\n",
       "      <th>COLOMBIA ENERGY DEVELOPMENT CO</th>\n",
       "      <td>6</td>\n",
       "    </tr>\n",
       "    <tr>\n",
       "      <th>NEW GRANADA ENERGY CORPORATION SUCURSAL COLOMBIA</th>\n",
       "      <td>6</td>\n",
       "    </tr>\n",
       "    <tr>\n",
       "      <th>CEPSA COLOMBIA S.A.</th>\n",
       "      <td>6</td>\n",
       "    </tr>\n",
       "    <tr>\n",
       "      <th>LEWIS ENERGY COLOMBIA INC</th>\n",
       "      <td>5</td>\n",
       "    </tr>\n",
       "    <tr>\n",
       "      <th>CARRAO ENERGY S.A. SUCURSAL COLOMIBA</th>\n",
       "      <td>5</td>\n",
       "    </tr>\n",
       "  </tbody>\n",
       "</table>\n",
       "</div>"
      ],
      "text/plain": [
       "                                                  OPERADORA\n",
       "Frontera Energy Colombia Corp Sucursal Colombia          34\n",
       "PERENCO COLOMBIA LIMITED                                 34\n",
       "GEOPARK COLOMBIA S.A.S.                                  20\n",
       "ECOPETROL S.A.                                            9\n",
       "PAREX RESOURCES COLOMBIA LTD. SUCURSAL                    7\n",
       "COLOMBIA ENERGY DEVELOPMENT CO                            6\n",
       "NEW GRANADA ENERGY CORPORATION SUCURSAL COLOMBIA          6\n",
       "CEPSA COLOMBIA S.A.                                       6\n",
       "LEWIS ENERGY COLOMBIA INC                                 5\n",
       "CARRAO ENERGY S.A. SUCURSAL COLOMIBA                      5"
      ]
     },
     "execution_count": 8,
     "metadata": {},
     "output_type": "execute_result"
    }
   ],
   "source": [
    "campo2018cascount=campo2018cas['OPERADORA'].value_counts().to_frame()\n",
    "campo2018cascount=campo2018cascount[campo2018cascount['OPERADORA']>=5]\n",
    "campo2018cascount"
   ]
  },
  {
   "cell_type": "code",
   "execution_count": 9,
   "metadata": {},
   "outputs": [
    {
     "data": {
      "image/png": "[encoded data removed]",
      "text/plain": [
       "<Figure size 432x288 with 1 Axes>"
      ]
     },
     "metadata": {
      "needs_background": "light"
     },
     "output_type": "display_data"
    }
   ],
   "source": [
    "plot = campo2018cascount.plot(kind='bar', title='Operadoras que resportaron producción en más de 5 campos de Casanare en 2018')"
   ]
  },
  {
   "cell_type": "markdown",
   "metadata": {},
   "source": [
    "# 3"
   ]
  },
  {
   "cell_type": "code",
   "execution_count": 10,
   "metadata": {},
   "outputs": [],
   "source": [
    "contrato2018 = pd.pivot_table(table2018, values='ACEITE', index=['CONTRATO'], aggfunc=np.sum).sort_values(by='ACEITE', ascending=False, na_position='first')\n",
    "top2018contratos=contrato2018[0:5]/1000000"
   ]
  },
  {
   "cell_type": "code",
   "execution_count": 11,
   "metadata": {},
   "outputs": [
    {
     "data": {
      "text/html": [
       "<div>\n",
       "<style scoped>\n",
       "    .dataframe tbody tr th:only-of-type {\n",
       "        vertical-align: middle;\n",
       "    }\n",
       "\n",
       "    .dataframe tbody tr th {\n",
       "        vertical-align: top;\n",
       "    }\n",
       "\n",
       "    .dataframe thead th {\n",
       "        text-align: right;\n",
       "    }\n",
       "</style>\n",
       "<table border=\"1\" class=\"dataframe\">\n",
       "  <thead>\n",
       "    <tr style=\"text-align: right;\">\n",
       "      <th></th>\n",
       "      <th>ACEITE</th>\n",
       "    </tr>\n",
       "    <tr>\n",
       "      <th>CONTRATO</th>\n",
       "      <th></th>\n",
       "    </tr>\n",
       "  </thead>\n",
       "  <tbody>\n",
       "    <tr>\n",
       "      <th>CUBARRAL</th>\n",
       "      <td>2.177189</td>\n",
       "    </tr>\n",
       "    <tr>\n",
       "      <th>RUBIALES</th>\n",
       "      <td>1.433612</td>\n",
       "    </tr>\n",
       "    <tr>\n",
       "      <th>LLA 34</th>\n",
       "      <td>0.725580</td>\n",
       "    </tr>\n",
       "    <tr>\n",
       "      <th>QUIFA</th>\n",
       "      <td>0.554438</td>\n",
       "    </tr>\n",
       "    <tr>\n",
       "      <th>LA CIRA INFANTAS</th>\n",
       "      <td>0.542415</td>\n",
       "    </tr>\n",
       "  </tbody>\n",
       "</table>\n",
       "</div>"
      ],
      "text/plain": [
       "                    ACEITE\n",
       "CONTRATO                  \n",
       "CUBARRAL          2.177189\n",
       "RUBIALES          1.433612\n",
       "LLA 34            0.725580\n",
       "QUIFA             0.554438\n",
       "LA CIRA INFANTAS  0.542415"
      ]
     },
     "execution_count": 11,
     "metadata": {},
     "output_type": "execute_result"
    }
   ],
   "source": [
    "top2018contratos"
   ]
  },
  {
   "cell_type": "code",
   "execution_count": 12,
   "metadata": {},
   "outputs": [
    {
     "data": {
      "image/png": "[encoded data removed]",
      "text/plain": [
       "<Figure size 432x288 with 1 Axes>"
      ]
     },
     "metadata": {
      "needs_background": "light"
     },
     "output_type": "display_data"
    }
   ],
   "source": [
    "plot = top2018contratos.plot(kind='bar', title='Top 5 de contratos de mayor producción de petróleo en 2018')"
   ]
  },
  {
   "cell_type": "markdown",
   "metadata": {},
   "source": [
    "# 4"
   ]
  },
  {
   "cell_type": "code",
   "execution_count": 13,
   "metadata": {},
   "outputs": [],
   "source": [
    "column2019=año2019.columns\n",
    "\n",
    "for col in range(0,len(column2019)):\n",
    "    if column2018[col].lower() == 'enero':\n",
    "        j=col\n",
    "table2019 = pd.melt(año2019, id_vars=column2019[0:j], var_name=\"MES\", value_name=\"ACEITE\")\n",
    "operadora2019 = pd.pivot_table(table2019, values='ACEITE', index=['OPERADORA','MES'], aggfunc=np.sum).sort_values(by='ACEITE', ascending=False, na_position='first').reset_index(level='MES')\n",
    "operadora2019ago=operadora2019[operadora2019['MES']=='AGOSTO'].sort_values(by='ACEITE', ascending=False, na_position='first').drop('MES',axis=1)\n",
    "topoperadora2019ago=operadora2019ago[0:10]"
   ]
  },
  {
   "cell_type": "code",
   "execution_count": 14,
   "metadata": {},
   "outputs": [
    {
     "data": {
      "text/html": [
       "<div>\n",
       "<style scoped>\n",
       "    .dataframe tbody tr th:only-of-type {\n",
       "        vertical-align: middle;\n",
       "    }\n",
       "\n",
       "    .dataframe tbody tr th {\n",
       "        vertical-align: top;\n",
       "    }\n",
       "\n",
       "    .dataframe thead th {\n",
       "        text-align: right;\n",
       "    }\n",
       "</style>\n",
       "<table border=\"1\" class=\"dataframe\">\n",
       "  <thead>\n",
       "    <tr style=\"text-align: right;\">\n",
       "      <th></th>\n",
       "      <th>MES</th>\n",
       "      <th>ACEITE</th>\n",
       "    </tr>\n",
       "    <tr>\n",
       "      <th>OPERADORA</th>\n",
       "      <th></th>\n",
       "      <th></th>\n",
       "    </tr>\n",
       "  </thead>\n",
       "  <tbody>\n",
       "    <tr>\n",
       "      <th>ECOPETROL S.A.</th>\n",
       "      <td>DICIEMBRE</td>\n",
       "      <td>484942.87</td>\n",
       "    </tr>\n",
       "    <tr>\n",
       "      <th>ECOPETROL S.A.</th>\n",
       "      <td>ENERO</td>\n",
       "      <td>481671.46</td>\n",
       "    </tr>\n",
       "    <tr>\n",
       "      <th>ECOPETROL S.A.</th>\n",
       "      <td>JUNIO</td>\n",
       "      <td>481050.47</td>\n",
       "    </tr>\n",
       "    <tr>\n",
       "      <th>ECOPETROL S.A.</th>\n",
       "      <td>FEBRERO</td>\n",
       "      <td>480734.78</td>\n",
       "    </tr>\n",
       "    <tr>\n",
       "      <th>ECOPETROL S.A.</th>\n",
       "      <td>MAYO</td>\n",
       "      <td>478635.43</td>\n",
       "    </tr>\n",
       "    <tr>\n",
       "      <th>...</th>\n",
       "      <td>...</td>\n",
       "      <td>...</td>\n",
       "    </tr>\n",
       "    <tr>\n",
       "      <th>INVEPETROL LIMITED COLOMBIA</th>\n",
       "      <td>ABRIL</td>\n",
       "      <td>0.00</td>\n",
       "    </tr>\n",
       "    <tr>\n",
       "      <th>TPL COLOMBIA LTD - SUCURSAL COLOMBIA ANTES PANATLANTIC COLOMBIA LTD SUCURSAL EN COLOMBIA</th>\n",
       "      <td>FEBRERO</td>\n",
       "      <td>0.00</td>\n",
       "    </tr>\n",
       "    <tr>\n",
       "      <th>PETROLEOS COLOMBIANOS SA</th>\n",
       "      <td>MARZO</td>\n",
       "      <td>0.00</td>\n",
       "    </tr>\n",
       "    <tr>\n",
       "      <th>PETROLEOS COLOMBIANOS SA</th>\n",
       "      <td>FEBRERO</td>\n",
       "      <td>0.00</td>\n",
       "    </tr>\n",
       "    <tr>\n",
       "      <th>TPL COLOMBIA LTD - SUCURSAL COLOMBIA ANTES PANATLANTIC COLOMBIA LTD SUCURSAL EN COLOMBIA</th>\n",
       "      <td>ENERO</td>\n",
       "      <td>0.00</td>\n",
       "    </tr>\n",
       "  </tbody>\n",
       "</table>\n",
       "<p>504 rows × 2 columns</p>\n",
       "</div>"
      ],
      "text/plain": [
       "                                                          MES     ACEITE\n",
       "OPERADORA                                                               \n",
       "ECOPETROL S.A.                                      DICIEMBRE  484942.87\n",
       "ECOPETROL S.A.                                          ENERO  481671.46\n",
       "ECOPETROL S.A.                                          JUNIO  481050.47\n",
       "ECOPETROL S.A.                                        FEBRERO  480734.78\n",
       "ECOPETROL S.A.                                           MAYO  478635.43\n",
       "...                                                       ...        ...\n",
       "INVEPETROL LIMITED COLOMBIA                             ABRIL       0.00\n",
       "TPL COLOMBIA LTD - SUCURSAL COLOMBIA ANTES PANA...    FEBRERO       0.00\n",
       "PETROLEOS COLOMBIANOS SA                                MARZO       0.00\n",
       "PETROLEOS COLOMBIANOS SA                              FEBRERO       0.00\n",
       "TPL COLOMBIA LTD - SUCURSAL COLOMBIA ANTES PANA...      ENERO       0.00\n",
       "\n",
       "[504 rows x 2 columns]"
      ]
     },
     "execution_count": 14,
     "metadata": {},
     "output_type": "execute_result"
    }
   ],
   "source": [
    "operadora2019"
   ]
  },
  {
   "cell_type": "code",
   "execution_count": 15,
   "metadata": {},
   "outputs": [
    {
     "data": {
      "text/html": [
       "<div>\n",
       "<style scoped>\n",
       "    .dataframe tbody tr th:only-of-type {\n",
       "        vertical-align: middle;\n",
       "    }\n",
       "\n",
       "    .dataframe tbody tr th {\n",
       "        vertical-align: top;\n",
       "    }\n",
       "\n",
       "    .dataframe thead th {\n",
       "        text-align: right;\n",
       "    }\n",
       "</style>\n",
       "<table border=\"1\" class=\"dataframe\">\n",
       "  <thead>\n",
       "    <tr style=\"text-align: right;\">\n",
       "      <th></th>\n",
       "      <th>ACEITE</th>\n",
       "    </tr>\n",
       "    <tr>\n",
       "      <th>OPERADORA</th>\n",
       "      <th></th>\n",
       "    </tr>\n",
       "  </thead>\n",
       "  <tbody>\n",
       "    <tr>\n",
       "      <th>ECOPETROL S.A.</th>\n",
       "      <td>473986.41</td>\n",
       "    </tr>\n",
       "    <tr>\n",
       "      <th>Frontera Energy Colombia Corp Sucursal Colombia</th>\n",
       "      <td>81441.68</td>\n",
       "    </tr>\n",
       "    <tr>\n",
       "      <th>GEOPARK COLOMBIA S.A.S.</th>\n",
       "      <td>69154.42</td>\n",
       "    </tr>\n",
       "    <tr>\n",
       "      <th>OCCIDENTAL DE COLOMBIA LLC</th>\n",
       "      <td>53299.12</td>\n",
       "    </tr>\n",
       "    <tr>\n",
       "      <th>EQUION ENERGÍA LIMITED</th>\n",
       "      <td>34950.01</td>\n",
       "    </tr>\n",
       "    <tr>\n",
       "      <th>GRAN TIERRA ENERGY COLOMBIA LTD</th>\n",
       "      <td>29555.20</td>\n",
       "    </tr>\n",
       "    <tr>\n",
       "      <th>MANSAROVAR ENERGY COLOMBIA LTD</th>\n",
       "      <td>25256.75</td>\n",
       "    </tr>\n",
       "    <tr>\n",
       "      <th>HOCOL S.A.</th>\n",
       "      <td>19614.02</td>\n",
       "    </tr>\n",
       "    <tr>\n",
       "      <th>PAREX RESOURCES COLOMBIA LTD. SUCURSAL</th>\n",
       "      <td>15727.97</td>\n",
       "    </tr>\n",
       "    <tr>\n",
       "      <th>CEPSA COLOMBIA S.A.</th>\n",
       "      <td>12702.09</td>\n",
       "    </tr>\n",
       "  </tbody>\n",
       "</table>\n",
       "</div>"
      ],
      "text/plain": [
       "                                                    ACEITE\n",
       "OPERADORA                                                 \n",
       "ECOPETROL S.A.                                   473986.41\n",
       "Frontera Energy Colombia Corp Sucursal Colombia   81441.68\n",
       "GEOPARK COLOMBIA S.A.S.                           69154.42\n",
       "OCCIDENTAL DE COLOMBIA LLC                        53299.12\n",
       "EQUION ENERGÍA LIMITED                            34950.01\n",
       "GRAN TIERRA ENERGY COLOMBIA LTD                   29555.20\n",
       "MANSAROVAR ENERGY COLOMBIA LTD                    25256.75\n",
       "HOCOL S.A.                                        19614.02\n",
       "PAREX RESOURCES COLOMBIA LTD. SUCURSAL            15727.97\n",
       "CEPSA COLOMBIA S.A.                               12702.09"
      ]
     },
     "execution_count": 15,
     "metadata": {},
     "output_type": "execute_result"
    }
   ],
   "source": [
    "topoperadora2019ago"
   ]
  },
  {
   "cell_type": "code",
   "execution_count": 16,
   "metadata": {},
   "outputs": [
    {
     "data": {
      "image/png": "[encoded data removed]",
      "text/plain": [
       "<Figure size 432x288 with 1 Axes>"
      ]
     },
     "metadata": {
      "needs_background": "light"
     },
     "output_type": "display_data"
    }
   ],
   "source": [
    "plot = topoperadora2019ago.plot(kind='bar', title='Top 10 de operadoras con mayor producción de petróleo en agosto de 2019')"
   ]
  },
  {
   "cell_type": "markdown",
   "metadata": {},
   "source": [
    "# 5"
   ]
  },
  {
   "cell_type": "code",
   "execution_count": 17,
   "metadata": {},
   "outputs": [],
   "source": [
    "#Lista para realizar el filtro\n",
    "T1=['enero','febrero','marzo']\n",
    "T2=['abril','mayo','junio']"
   ]
  },
  {
   "cell_type": "code",
   "execution_count": 18,
   "metadata": {},
   "outputs": [],
   "source": [
    "#Agrupo por mes\n",
    "meses2019 = pd.pivot_table(table2019, values='ACEITE', index=['MES'], aggfunc=np.sum).sort_values(by='ACEITE', ascending=False, na_position='first').reset_index(level='MES')\n",
    "#Aplico formato al texto para realizar el filtro correctamente \n",
    "meses2019['MES']=meses2019['MES'].apply(lambda x: x.lower())\n",
    "#Aplico los filtros de los trimestres y guardo los resultados\n",
    "T12019=meses2019[meses2019['MES'].isin(T1)].reset_index(drop=True)\n",
    "T22019=meses2019[meses2019['MES'].isin(T2)].reset_index(drop=True)\n",
    "#Agrupo por mes\n",
    "meses2020 = pd.pivot_table(table2020, values='ACEITE', index=['MES'], aggfunc=np.sum).sort_values(by='ACEITE', ascending=False, na_position='first').reset_index(level='MES')\n",
    "#Aplico formato al texto para realizar el filtro correctamente \n",
    "meses2020['MES']=meses2020['MES'].apply(lambda x: x.lower())\n",
    "#Aplico los filtros de los trimestres y guardo los resultados\n",
    "T12020=meses2020[meses2020['MES'].isin(T1)].reset_index(drop=True)\n",
    "T22020=meses2020[meses2020['MES'].isin(T2)].reset_index(drop=True)"
   ]
  },
  {
   "cell_type": "code",
   "execution_count": 19,
   "metadata": {},
   "outputs": [
    {
     "data": {
      "text/html": [
       "<div>\n",
       "<style scoped>\n",
       "    .dataframe tbody tr th:only-of-type {\n",
       "        vertical-align: middle;\n",
       "    }\n",
       "\n",
       "    .dataframe tbody tr th {\n",
       "        vertical-align: top;\n",
       "    }\n",
       "\n",
       "    .dataframe thead th {\n",
       "        text-align: right;\n",
       "    }\n",
       "</style>\n",
       "<table border=\"1\" class=\"dataframe\">\n",
       "  <thead>\n",
       "    <tr style=\"text-align: right;\">\n",
       "      <th></th>\n",
       "      <th>Trimestre 1</th>\n",
       "      <th>Trimestre 2</th>\n",
       "    </tr>\n",
       "    <tr>\n",
       "      <th>Año</th>\n",
       "      <th></th>\n",
       "      <th></th>\n",
       "    </tr>\n",
       "  </thead>\n",
       "  <tbody>\n",
       "    <tr>\n",
       "      <th>2019</th>\n",
       "      <td>2676538.43</td>\n",
       "      <td>2.677717e+06</td>\n",
       "    </tr>\n",
       "    <tr>\n",
       "      <th>2020</th>\n",
       "      <td>2619416.71</td>\n",
       "      <td>2.258345e+06</td>\n",
       "    </tr>\n",
       "  </tbody>\n",
       "</table>\n",
       "</div>"
      ],
      "text/plain": [
       "      Trimestre 1   Trimestre 2\n",
       "Año                            \n",
       "2019   2676538.43  2.677717e+06\n",
       "2020   2619416.71  2.258345e+06"
      ]
     },
     "execution_count": 19,
     "metadata": {},
     "output_type": "execute_result"
    }
   ],
   "source": [
    "#Genero un data frame para guardas los resultados de los filtros y agrupaciones\n",
    "trim1920 = pd.DataFrame({\"Año\": [2019,2020], \"Trimestre 1\": [T12019['ACEITE'].sum(),T12020['ACEITE'].sum()], \"Trimestre 2\": [T22019['ACEITE'].sum(),T22020['ACEITE'].sum()]})\n",
    "#Subo a indice la columna año\n",
    "trim1920.set_index(\"Año\")"
   ]
  },
  {
   "cell_type": "code",
   "execution_count": 20,
   "metadata": {
    "scrolled": true
   },
   "outputs": [
    {
     "data": {
      "image/png": "[encoded data removed]",
      "text/plain": [
       "<Figure size 720x288 with 1 Axes>"
      ]
     },
     "metadata": {
      "needs_background": "light"
     },
     "output_type": "display_data"
    }
   ],
   "source": [
    "coloresMedallas = ['#FFD700','#C0C0C0']\n",
    "\n",
    "trim1920.plot(kind = 'bar',\n",
    "             width=0.8,\n",
    "             figsize=(10,4),\n",
    "             color = coloresMedallas);"
   ]
  },
  {
   "cell_type": "markdown",
   "metadata": {},
   "source": [
    "# Tabla de datos oficiales"
   ]
  },
  {
   "cell_type": "code",
   "execution_count": 21,
   "metadata": {},
   "outputs": [],
   "source": [
    "#Generando las tablas no usadas en los puntos anteriores\n",
    "#Hago una lista con los nombres de las columnas del dataframe\n",
    "column2013=año2013.columns\n",
    "column2014=año2014.columns\n",
    "column2015=año2015.columns\n",
    "column2016=año2016.columns\n",
    "column2017=año2017.columns\n",
    "#hallo la posición de la columna que contiene a Enero\n",
    "for col in range(0,len(column2013)):\n",
    "    if column2013[col].lower() == 'enero':\n",
    "        j=col\n",
    "#Paso de formato wide a long sabiendo cual es la columna que contiene a enero, lugar desde el cual queremos hacer el pivote\n",
    "table2013 = pd.melt(año2013, id_vars=column2013[0:j], var_name=\"MES\", value_name=\"ACEITE\")\n",
    "for col in range(0,len(column2014)):\n",
    "    if column2014[col].lower() == 'enero':\n",
    "        j=col\n",
    "table2014 = pd.melt(año2014, id_vars=column2014[0:j], var_name=\"MES\", value_name=\"ACEITE\")\n",
    "for col in range(0,len(column2015)):\n",
    "    if column2015[col].lower() == 'enero':\n",
    "        j=col\n",
    "table2015 = pd.melt(año2015, id_vars=column2015[0:j], var_name=\"MES\", value_name=\"ACEITE\")\n",
    "for col in range(0,len(column2016)):\n",
    "    if column2016[col].lower() == 'enero':\n",
    "        j=col\n",
    "table2016 = pd.melt(año2015, id_vars=column2016[0:j], var_name=\"MES\", value_name=\"ACEITE\")\n",
    "for col in range(0,len(column2017)):\n",
    "    if column2017[col].lower() == 'enero':\n",
    "        j=col\n",
    "table2017 = pd.melt(año2017, id_vars=column2017[0:j], var_name=\"MES\", value_name=\"ACEITE\")"
   ]
  },
  {
   "cell_type": "code",
   "execution_count": 22,
   "metadata": {},
   "outputs": [],
   "source": [
    "#Juntaré los 3 años en un data frame, para esto, voy a diferenciarlos por el año\n",
    "table2013['YYYY'] = 2013\n",
    "table2014['YYYY'] = 2014\n",
    "table2015['YYYY'] = 2015\n",
    "table2016['YYYY'] = 2016\n",
    "table2017['YYYY'] = 2017\n",
    "table2018['YYYY'] = 2018\n",
    "table2019['YYYY'] = 2019\n",
    "table2020['YYYY'] = 2020"
   ]
  },
  {
   "cell_type": "code",
   "execution_count": 23,
   "metadata": {},
   "outputs": [],
   "source": [
    "#Ahora convertiré el mes a número para tener datos secuenciales MM-YYYY\n",
    "def mesnum(mes):\n",
    "    if mes.lower().strip() == 'enero':\n",
    "        mesn = 1 \n",
    "    if mes.lower().strip() == 'febrero':\n",
    "        mesn = 2 \n",
    "    if mes.lower().strip() == 'marzo':\n",
    "        mesn = 3\n",
    "    if mes.lower().strip() == 'abril':\n",
    "        mesn = 4 \n",
    "    if mes.lower().strip() == 'mayo':\n",
    "        mesn = 5 \n",
    "    if mes.lower().strip() == 'junio':\n",
    "        mesn = 6\n",
    "    if mes.lower().strip() == 'julio':\n",
    "        mesn = 7 \n",
    "    if mes.lower().strip() == 'agosto':\n",
    "        mesn = 8 \n",
    "    if mes.lower().strip() == 'septiembre':\n",
    "        mesn = 9\n",
    "    if mes.lower().strip() == 'octubre':\n",
    "        mesn = 10 \n",
    "    if mes.lower().strip() == 'noviembre':\n",
    "        mesn = 11\n",
    "    if mes.lower().strip() == 'diciembre':\n",
    "        mesn = 12\n",
    "    return mesn\n",
    "\n",
    "table2013['MM'] = table2013['MES'].apply(mesnum)\n",
    "table2014['MM'] = table2014['MES'].apply(mesnum)\n",
    "table2015['MM'] = table2015['MES'].apply(mesnum)\n",
    "table2016['MM'] = table2016['MES'].apply(mesnum)\n",
    "table2017['MM'] = table2017['MES'].apply(mesnum)\n",
    "table2018['MM'] = table2018['MES'].apply(mesnum)\n",
    "table2019['MM'] = table2019['MES'].apply(mesnum)\n",
    "table2020['MM'] = table2020['MES'].apply(mesnum)\n",
    "\n",
    "#Concateno el mes y el año\n",
    "def concat(*args):\n",
    "    strs = [str(arg) for arg in args if not pd.isnull(arg)]\n",
    "    return '/'.join(strs) if strs else np.nan\n",
    "np_concat = np.vectorize(concat)\n",
    "\n",
    "table2013['MM-YYYY'] = np_concat(table2013['MM'], table2013['YYYY'])\n",
    "table2014['MM-YYYY'] = np_concat(table2014['MM'], table2014['YYYY'])\n",
    "table2015['MM-YYYY'] = np_concat(table2015['MM'], table2015['YYYY'])\n",
    "table2016['MM-YYYY'] = np_concat(table2016['MM'], table2016['YYYY'])\n",
    "table2017['MM-YYYY'] = np_concat(table2017['MM'], table2017['YYYY'])\n",
    "table2018['MM-YYYY'] = np_concat(table2018['MM'], table2018['YYYY'])\n",
    "table2019['MM-YYYY'] = np_concat(table2019['MM'], table2019['YYYY'])\n",
    "table2020['MM-YYYY'] = np_concat(table2020['MM'], table2020['YYYY'])\n",
    "\n",
    "#Realizo formato de fecha\n",
    "table2013['FECHA'] = table2013['MM-YYYY'].apply(lambda x: datetime.strptime(x, '%m/%Y'))\n",
    "table2014['FECHA'] = table2014['MM-YYYY'].apply(lambda x: datetime.strptime(x, '%m/%Y'))\n",
    "table2015['FECHA'] = table2015['MM-YYYY'].apply(lambda x: datetime.strptime(x, '%m/%Y'))\n",
    "table2016['FECHA'] = table2016['MM-YYYY'].apply(lambda x: datetime.strptime(x, '%m/%Y'))\n",
    "table2017['FECHA'] = table2017['MM-YYYY'].apply(lambda x: datetime.strptime(x, '%m/%Y'))\n",
    "table2018['FECHA'] = table2018['MM-YYYY'].apply(lambda x: datetime.strptime(x, '%m/%Y'))\n",
    "table2019['FECHA'] = table2019['MM-YYYY'].apply(lambda x: datetime.strptime(x, '%m/%Y'))\n",
    "table2020['FECHA'] = table2020['MM-YYYY'].apply(lambda x: datetime.strptime(x, '%m/%Y'))\n",
    "\n",
    "#Borraré las columnas que creé para genera la fecha\n",
    "table2013.drop([ 'MM','MM-YYYY'], axis = 'columns', inplace=True)\n",
    "table2014.drop(['MM','MM-YYYY'], axis = 'columns', inplace=True)\n",
    "table2015.drop([ 'MM','MM-YYYY'], axis = 'columns', inplace=True)\n",
    "table2016.drop([ 'MM','MM-YYYY'], axis = 'columns', inplace=True)\n",
    "table2017.drop([ 'MM','MM-YYYY'], axis = 'columns', inplace=True)\n",
    "table2018.drop([ 'MM','MM-YYYY'], axis = 'columns', inplace=True)\n",
    "table2019.drop([ 'MM','MM-YYYY'], axis = 'columns', inplace=True)\n",
    "table2020.drop([ 'MM','MM-YYYY'], axis = 'columns', inplace=True)\n",
    "\n",
    "#Dejamos todos los años en un solo df\n",
    "table_comp= pd.concat([table2013,table2014,table2015,table2016,table2017,table2018,table2019,table2020], ignore_index=True).fillna(\"No encontrado\")"
   ]
  },
  {
   "cell_type": "code",
   "execution_count": 55,
   "metadata": {},
   "outputs": [
    {
     "data": {
      "text/plain": [
       "12070043.560726535"
      ]
     },
     "execution_count": 55,
     "metadata": {},
     "output_type": "execute_result"
    }
   ],
   "source": [
    "table2016['ACEITE'].sum()"
   ]
  },
  {
   "cell_type": "markdown",
   "metadata": {},
   "source": [
    "# Blind data"
   ]
  },
  {
   "cell_type": "markdown",
   "metadata": {},
   "source": [
    "El script de lectura es el mismo que el usado para los datos oficiales, solo cambia el directorio de trabajo"
   ]
  },
  {
   "cell_type": "code",
   "execution_count": 25,
   "metadata": {},
   "outputs": [],
   "source": [
    "#Se quiere que este código perdure en el tiempo, por tanto, se genera el código para que lea todos los excel  hasta el año actual\n",
    "today = date.today()\n",
    "#Los datos de producción se obtienen desde el año 2013\n",
    "primeraño=2013\n",
    "añoactual=today.year\n",
    "#Un rango de fechas desde el 2013 hasta el año actual\n",
    "años = range(primeraño,añoactual+1,1)\n",
    "#Se crea una función para leer los nombres de los archivos que estan ubicados en el directorio\n",
    "def ls(ruta = Path.cwd()):\n",
    "    return [arch.name for arch in Path(ruta).iterdir() if arch.is_file()]\n",
    "#Se establece como ruta una carpeta llamada \"Datos/Blind data/\" dentro del directorio actual\n",
    "files=ls(\"Datos/Blind data/\")\n",
    "for año in años:\n",
    "    for file in files:\n",
    "        añotemp = file[file.find('2'):file.find('2')+4]\n",
    "        if int(año) == int(añotemp):\n",
    "            #Se leen los documentos de excel que están en el directorio especificado. Se limita las columnas de la A a la Q\n",
    "            globals()[\"blindaño\" + str(año)] = pd.read_excel('Datos/Blind data/'+file,usecols='A:Q')\n",
    "            #Se eliminan las filas con valores nulos, para así quitar encabezados y totalizadores\n",
    "            globals()[\"blindaño\" + str(año)]=globals()[\"blindaño\" + str(año)].dropna().reset_index(drop=True)"
   ]
  },
  {
   "cell_type": "markdown",
   "metadata": {},
   "source": [
    "# 6"
   ]
  },
  {
   "cell_type": "code",
   "execution_count": 26,
   "metadata": {},
   "outputs": [],
   "source": [
    "#Hago una lista con los nombres de las columnas del dataframe\n",
    "blind_column2019=blindaño2019.columns\n",
    "#hallo la posición de la columna que contiene a Enero\n",
    "for col in range(0,len(blind_column2019)):\n",
    "    if blind_column2019[col].lower() == 'enero':\n",
    "        j=col\n",
    "#Paso de formato wide a long sabiendo cual es la columna que contiene a enero, lugar desde el cual queremos hacer el pivote\n",
    "blind_table2019 = pd.melt(blindaño2019, id_vars=blind_column2019[0:j], var_name=\"MES\", value_name=\"ACEITE\")"
   ]
  },
  {
   "cell_type": "code",
   "execution_count": 27,
   "metadata": {},
   "outputs": [],
   "source": [
    "#Si se desea inspeccionar otro campo y otro mes, solo debe cambiar estas variables\n",
    "campo='1f d2689f'\n",
    "mes='JULIO'"
   ]
  },
  {
   "cell_type": "code",
   "execution_count": 28,
   "metadata": {},
   "outputs": [
    {
     "name": "stdout",
     "output_type": "stream",
     "text": [
      "Caudal de producción del campo 1F D2689F en Julio de 2019: 4766.241346484784\n"
     ]
    }
   ],
   "source": [
    "campo2019_7 = blind_table2019[blind_table2019['CAMPO']==campo.lower()][blind_table2019['MES']==mes.upper()].reset_index(drop=True)\n",
    "print('Caudal de producción del campo', campo.upper(), 'en Julio de 2019:',campo2019_7['ACEITE'][0])"
   ]
  },
  {
   "cell_type": "code",
   "execution_count": 29,
   "metadata": {},
   "outputs": [
    {
     "data": {
      "text/html": [
       "<div>\n",
       "<style scoped>\n",
       "    .dataframe tbody tr th:only-of-type {\n",
       "        vertical-align: middle;\n",
       "    }\n",
       "\n",
       "    .dataframe tbody tr th {\n",
       "        vertical-align: top;\n",
       "    }\n",
       "\n",
       "    .dataframe thead th {\n",
       "        text-align: right;\n",
       "    }\n",
       "</style>\n",
       "<table border=\"1\" class=\"dataframe\">\n",
       "  <thead>\n",
       "    <tr style=\"text-align: right;\">\n",
       "      <th></th>\n",
       "      <th>DEPARTAMENTO</th>\n",
       "      <th>MUNICIPIO</th>\n",
       "      <th>OPERADORA</th>\n",
       "      <th>CONTRATO</th>\n",
       "      <th>CAMPO</th>\n",
       "      <th>MES</th>\n",
       "      <th>ACEITE</th>\n",
       "    </tr>\n",
       "  </thead>\n",
       "  <tbody>\n",
       "    <tr>\n",
       "      <th>0</th>\n",
       "      <td>cf33cb8a</td>\n",
       "      <td>cf33cb8a</td>\n",
       "      <td>d5580f74</td>\n",
       "      <td>1f d2689f</td>\n",
       "      <td>1f d2689f</td>\n",
       "      <td>ENERO</td>\n",
       "      <td>7897.993261</td>\n",
       "    </tr>\n",
       "    <tr>\n",
       "      <th>46</th>\n",
       "      <td>cf33cb8a</td>\n",
       "      <td>cf33cb8a</td>\n",
       "      <td>d5580f74</td>\n",
       "      <td>1f d2689f</td>\n",
       "      <td>1f d2689f</td>\n",
       "      <td>FEBRERO</td>\n",
       "      <td>6687.201142</td>\n",
       "    </tr>\n",
       "    <tr>\n",
       "      <th>92</th>\n",
       "      <td>cf33cb8a</td>\n",
       "      <td>cf33cb8a</td>\n",
       "      <td>d5580f74</td>\n",
       "      <td>1f d2689f</td>\n",
       "      <td>1f d2689f</td>\n",
       "      <td>MARZO</td>\n",
       "      <td>6176.648164</td>\n",
       "    </tr>\n",
       "    <tr>\n",
       "      <th>138</th>\n",
       "      <td>cf33cb8a</td>\n",
       "      <td>cf33cb8a</td>\n",
       "      <td>d5580f74</td>\n",
       "      <td>1f d2689f</td>\n",
       "      <td>1f d2689f</td>\n",
       "      <td>ABRIL</td>\n",
       "      <td>5998.336864</td>\n",
       "    </tr>\n",
       "    <tr>\n",
       "      <th>184</th>\n",
       "      <td>cf33cb8a</td>\n",
       "      <td>cf33cb8a</td>\n",
       "      <td>d5580f74</td>\n",
       "      <td>1f d2689f</td>\n",
       "      <td>1f d2689f</td>\n",
       "      <td>MAYO</td>\n",
       "      <td>5838.969170</td>\n",
       "    </tr>\n",
       "    <tr>\n",
       "      <th>230</th>\n",
       "      <td>cf33cb8a</td>\n",
       "      <td>cf33cb8a</td>\n",
       "      <td>d5580f74</td>\n",
       "      <td>1f d2689f</td>\n",
       "      <td>1f d2689f</td>\n",
       "      <td>JUNIO</td>\n",
       "      <td>6390.660871</td>\n",
       "    </tr>\n",
       "    <tr>\n",
       "      <th>276</th>\n",
       "      <td>cf33cb8a</td>\n",
       "      <td>cf33cb8a</td>\n",
       "      <td>d5580f74</td>\n",
       "      <td>1f d2689f</td>\n",
       "      <td>1f d2689f</td>\n",
       "      <td>JULIO</td>\n",
       "      <td>4766.241346</td>\n",
       "    </tr>\n",
       "    <tr>\n",
       "      <th>322</th>\n",
       "      <td>cf33cb8a</td>\n",
       "      <td>cf33cb8a</td>\n",
       "      <td>d5580f74</td>\n",
       "      <td>1f d2689f</td>\n",
       "      <td>1f d2689f</td>\n",
       "      <td>AGOSTO</td>\n",
       "      <td>5871.527810</td>\n",
       "    </tr>\n",
       "    <tr>\n",
       "      <th>368</th>\n",
       "      <td>cf33cb8a</td>\n",
       "      <td>cf33cb8a</td>\n",
       "      <td>d5580f74</td>\n",
       "      <td>1f d2689f</td>\n",
       "      <td>1f d2689f</td>\n",
       "      <td>SEPTIEMBRE</td>\n",
       "      <td>5179.292397</td>\n",
       "    </tr>\n",
       "    <tr>\n",
       "      <th>414</th>\n",
       "      <td>cf33cb8a</td>\n",
       "      <td>cf33cb8a</td>\n",
       "      <td>d5580f74</td>\n",
       "      <td>1f d2689f</td>\n",
       "      <td>1f d2689f</td>\n",
       "      <td>OCTUBRE</td>\n",
       "      <td>5928.184630</td>\n",
       "    </tr>\n",
       "    <tr>\n",
       "      <th>460</th>\n",
       "      <td>cf33cb8a</td>\n",
       "      <td>cf33cb8a</td>\n",
       "      <td>d5580f74</td>\n",
       "      <td>1f d2689f</td>\n",
       "      <td>1f d2689f</td>\n",
       "      <td>NOVIEMBRE</td>\n",
       "      <td>6237.904951</td>\n",
       "    </tr>\n",
       "    <tr>\n",
       "      <th>506</th>\n",
       "      <td>cf33cb8a</td>\n",
       "      <td>cf33cb8a</td>\n",
       "      <td>d5580f74</td>\n",
       "      <td>1f d2689f</td>\n",
       "      <td>1f d2689f</td>\n",
       "      <td>DICIEMBRE</td>\n",
       "      <td>6226.606211</td>\n",
       "    </tr>\n",
       "  </tbody>\n",
       "</table>\n",
       "</div>"
      ],
      "text/plain": [
       "    DEPARTAMENTO MUNICIPIO OPERADORA   CONTRATO      CAMPO         MES  \\\n",
       "0       cf33cb8a  cf33cb8a  d5580f74  1f d2689f  1f d2689f       ENERO   \n",
       "46      cf33cb8a  cf33cb8a  d5580f74  1f d2689f  1f d2689f     FEBRERO   \n",
       "92      cf33cb8a  cf33cb8a  d5580f74  1f d2689f  1f d2689f       MARZO   \n",
       "138     cf33cb8a  cf33cb8a  d5580f74  1f d2689f  1f d2689f       ABRIL   \n",
       "184     cf33cb8a  cf33cb8a  d5580f74  1f d2689f  1f d2689f        MAYO   \n",
       "230     cf33cb8a  cf33cb8a  d5580f74  1f d2689f  1f d2689f       JUNIO   \n",
       "276     cf33cb8a  cf33cb8a  d5580f74  1f d2689f  1f d2689f       JULIO   \n",
       "322     cf33cb8a  cf33cb8a  d5580f74  1f d2689f  1f d2689f      AGOSTO   \n",
       "368     cf33cb8a  cf33cb8a  d5580f74  1f d2689f  1f d2689f  SEPTIEMBRE   \n",
       "414     cf33cb8a  cf33cb8a  d5580f74  1f d2689f  1f d2689f     OCTUBRE   \n",
       "460     cf33cb8a  cf33cb8a  d5580f74  1f d2689f  1f d2689f   NOVIEMBRE   \n",
       "506     cf33cb8a  cf33cb8a  d5580f74  1f d2689f  1f d2689f   DICIEMBRE   \n",
       "\n",
       "          ACEITE  \n",
       "0    7897.993261  \n",
       "46   6687.201142  \n",
       "92   6176.648164  \n",
       "138  5998.336864  \n",
       "184  5838.969170  \n",
       "230  6390.660871  \n",
       "276  4766.241346  \n",
       "322  5871.527810  \n",
       "368  5179.292397  \n",
       "414  5928.184630  \n",
       "460  6237.904951  \n",
       "506  6226.606211  "
      ]
     },
     "execution_count": 29,
     "metadata": {},
     "output_type": "execute_result"
    }
   ],
   "source": [
    "blind_table2019[blind_table2019['CAMPO']==campo.lower()]"
   ]
  },
  {
   "cell_type": "code",
   "execution_count": 30,
   "metadata": {},
   "outputs": [
    {
     "data": {
      "image/png": "[encoded data removed]",
      "text/plain": [
       "<Figure size 432x288 with 1 Axes>"
      ]
     },
     "metadata": {
      "needs_background": "light"
     },
     "output_type": "display_data"
    }
   ],
   "source": [
    "by_field=sns.barplot(x='MES', y='ACEITE', hue='CAMPO', data=blind_table2019[blind_table2019['CAMPO']==campo.lower()], palette=sns.color_palette(\"RdBu\", n_colors=7))\n",
    "for item in by_field.get_xticklabels():\n",
    "    item.set_rotation(45)"
   ]
  },
  {
   "cell_type": "markdown",
   "metadata": {},
   "source": [
    "# 7"
   ]
  },
  {
   "cell_type": "code",
   "execution_count": 31,
   "metadata": {},
   "outputs": [],
   "source": [
    "#Si se desea inspeccionar otro campo y otro mes, solo debe cambiar estas variables\n",
    "operadora = '2fe52430'\n",
    "mes = 'FEBRERO'"
   ]
  },
  {
   "cell_type": "code",
   "execution_count": 32,
   "metadata": {},
   "outputs": [
    {
     "name": "stdout",
     "output_type": "stream",
     "text": [
      "Caudal de producción de la operadora 2FE52430 en Febrero de 2019: 7452.2204502174945\n"
     ]
    }
   ],
   "source": [
    "operadora2019_2 = blind_table2019[blind_table2019['OPERADORA']==operadora.lower()][blind_table2019['MES']==mes.upper()].reset_index(drop=True)\n",
    "print('Caudal de producción de la operadora', operadora.upper(), 'en Febrero de 2019:',operadora2019_2['ACEITE'].sum())"
   ]
  },
  {
   "cell_type": "code",
   "execution_count": 33,
   "metadata": {},
   "outputs": [
    {
     "data": {
      "text/html": [
       "<div>\n",
       "<style scoped>\n",
       "    .dataframe tbody tr th:only-of-type {\n",
       "        vertical-align: middle;\n",
       "    }\n",
       "\n",
       "    .dataframe tbody tr th {\n",
       "        vertical-align: top;\n",
       "    }\n",
       "\n",
       "    .dataframe thead th {\n",
       "        text-align: right;\n",
       "    }\n",
       "</style>\n",
       "<table border=\"1\" class=\"dataframe\">\n",
       "  <thead>\n",
       "    <tr style=\"text-align: right;\">\n",
       "      <th></th>\n",
       "      <th>DEPARTAMENTO</th>\n",
       "      <th>MUNICIPIO</th>\n",
       "      <th>OPERADORA</th>\n",
       "      <th>CONTRATO</th>\n",
       "      <th>CAMPO</th>\n",
       "      <th>MES</th>\n",
       "      <th>ACEITE</th>\n",
       "    </tr>\n",
       "  </thead>\n",
       "  <tbody>\n",
       "    <tr>\n",
       "      <th>74</th>\n",
       "      <td>f7fd2c4f</td>\n",
       "      <td>16b873c5</td>\n",
       "      <td>2fe52430</td>\n",
       "      <td>23980b82</td>\n",
       "      <td>7eb34927</td>\n",
       "      <td>FEBRERO</td>\n",
       "      <td>88.628230</td>\n",
       "    </tr>\n",
       "    <tr>\n",
       "      <th>75</th>\n",
       "      <td>f7fd2c4f</td>\n",
       "      <td>16b873c5</td>\n",
       "      <td>2fe52430</td>\n",
       "      <td>23980b82</td>\n",
       "      <td>4f4a249f</td>\n",
       "      <td>FEBRERO</td>\n",
       "      <td>141.326684</td>\n",
       "    </tr>\n",
       "    <tr>\n",
       "      <th>76</th>\n",
       "      <td>f7fd2c4f</td>\n",
       "      <td>16b873c5</td>\n",
       "      <td>2fe52430</td>\n",
       "      <td>23980b82</td>\n",
       "      <td>8ba362f3</td>\n",
       "      <td>FEBRERO</td>\n",
       "      <td>477.124368</td>\n",
       "    </tr>\n",
       "    <tr>\n",
       "      <th>86</th>\n",
       "      <td>0fa93c9b</td>\n",
       "      <td>756c486f</td>\n",
       "      <td>2fe52430</td>\n",
       "      <td>4b05ae15</td>\n",
       "      <td>48670499</td>\n",
       "      <td>FEBRERO</td>\n",
       "      <td>5605.229884</td>\n",
       "    </tr>\n",
       "    <tr>\n",
       "      <th>87</th>\n",
       "      <td>0fa93c9b</td>\n",
       "      <td>756c486f</td>\n",
       "      <td>2fe52430</td>\n",
       "      <td>4b05ae15</td>\n",
       "      <td>373ebdec</td>\n",
       "      <td>FEBRERO</td>\n",
       "      <td>572.625364</td>\n",
       "    </tr>\n",
       "    <tr>\n",
       "      <th>88</th>\n",
       "      <td>0fa93c9b</td>\n",
       "      <td>756c486f</td>\n",
       "      <td>2fe52430</td>\n",
       "      <td>4b05ae15</td>\n",
       "      <td>e32e23a1</td>\n",
       "      <td>FEBRERO</td>\n",
       "      <td>567.285920</td>\n",
       "    </tr>\n",
       "  </tbody>\n",
       "</table>\n",
       "</div>"
      ],
      "text/plain": [
       "   DEPARTAMENTO MUNICIPIO OPERADORA  CONTRATO     CAMPO      MES       ACEITE\n",
       "74     f7fd2c4f  16b873c5  2fe52430  23980b82  7eb34927  FEBRERO    88.628230\n",
       "75     f7fd2c4f  16b873c5  2fe52430  23980b82  4f4a249f  FEBRERO   141.326684\n",
       "76     f7fd2c4f  16b873c5  2fe52430  23980b82  8ba362f3  FEBRERO   477.124368\n",
       "86     0fa93c9b  756c486f  2fe52430  4b05ae15  48670499  FEBRERO  5605.229884\n",
       "87     0fa93c9b  756c486f  2fe52430  4b05ae15  373ebdec  FEBRERO   572.625364\n",
       "88     0fa93c9b  756c486f  2fe52430  4b05ae15  e32e23a1  FEBRERO   567.285920"
      ]
     },
     "execution_count": 33,
     "metadata": {},
     "output_type": "execute_result"
    }
   ],
   "source": [
    "blind_table2019[blind_table2019['OPERADORA']==operadora.lower()][blind_table2019['MES']==mes.upper()]"
   ]
  },
  {
   "cell_type": "code",
   "execution_count": 34,
   "metadata": {},
   "outputs": [
    {
     "data": {
      "image/png": "[encoded data removed]",
      "text/plain": [
       "<Figure size 432x288 with 1 Axes>"
      ]
     },
     "metadata": {
      "needs_background": "light"
     },
     "output_type": "display_data"
    }
   ],
   "source": [
    "by_field=sns.barplot(x='CAMPO', y='ACEITE', hue='MES', data=blind_table2019[blind_table2019['OPERADORA']==operadora.lower()][blind_table2019['MES']==mes.upper()], palette=sns.color_palette(\"RdBu\", n_colors=7))\n",
    "for item in by_field.get_xticklabels():\n",
    "    item.set_rotation(45)"
   ]
  },
  {
   "cell_type": "markdown",
   "metadata": {},
   "source": [
    "# 8"
   ]
  },
  {
   "cell_type": "code",
   "execution_count": 35,
   "metadata": {},
   "outputs": [],
   "source": [
    "#Hago una lista con los nombres de las columnas del dataframe\n",
    "blind_column2018=blindaño2018.columns\n",
    "#hallo la posición de la columna que contiene a Enero\n",
    "for col in range(0,len(blind_column2018)):\n",
    "    if blind_column2018[col].lower() == 'enero':\n",
    "        j=col\n",
    "#Paso de formato wide a long sabiendo cual es la columna que contiene a enero, lugar desde el cual queremos hacer el pivote\n",
    "blind_table2018 = pd.melt(blindaño2018, id_vars=blind_column2018[0:j], var_name=\"MES\", value_name=\"ACEITE\")"
   ]
  },
  {
   "cell_type": "code",
   "execution_count": 36,
   "metadata": {},
   "outputs": [],
   "source": [
    "#Agrupo por departamento\n",
    "departamento2018 = pd.pivot_table(blind_table2018, values='ACEITE', index=['DEPARTAMENTO'], aggfunc=np.sum).sort_values(by='ACEITE', na_position='first').reset_index()"
   ]
  },
  {
   "cell_type": "code",
   "execution_count": 37,
   "metadata": {},
   "outputs": [
    {
     "data": {
      "text/html": [
       "<div>\n",
       "<style scoped>\n",
       "    .dataframe tbody tr th:only-of-type {\n",
       "        vertical-align: middle;\n",
       "    }\n",
       "\n",
       "    .dataframe tbody tr th {\n",
       "        vertical-align: top;\n",
       "    }\n",
       "\n",
       "    .dataframe thead th {\n",
       "        text-align: right;\n",
       "    }\n",
       "</style>\n",
       "<table border=\"1\" class=\"dataframe\">\n",
       "  <thead>\n",
       "    <tr style=\"text-align: right;\">\n",
       "      <th></th>\n",
       "      <th>DEPARTAMENTO</th>\n",
       "      <th>ACEITE</th>\n",
       "    </tr>\n",
       "  </thead>\n",
       "  <tbody>\n",
       "    <tr>\n",
       "      <th>0</th>\n",
       "      <td>0fa93c9b</td>\n",
       "      <td>98767.669386</td>\n",
       "    </tr>\n",
       "    <tr>\n",
       "      <th>1</th>\n",
       "      <td>f7fd2c4f</td>\n",
       "      <td>126069.165338</td>\n",
       "    </tr>\n",
       "    <tr>\n",
       "      <th>2</th>\n",
       "      <td>cf33cb8a</td>\n",
       "      <td>623608.432526</td>\n",
       "    </tr>\n",
       "  </tbody>\n",
       "</table>\n",
       "</div>"
      ],
      "text/plain": [
       "  DEPARTAMENTO         ACEITE\n",
       "0     0fa93c9b   98767.669386\n",
       "1     f7fd2c4f  126069.165338\n",
       "2     cf33cb8a  623608.432526"
      ]
     },
     "execution_count": 37,
     "metadata": {},
     "output_type": "execute_result"
    }
   ],
   "source": [
    "departamento2018"
   ]
  },
  {
   "cell_type": "code",
   "execution_count": 38,
   "metadata": {},
   "outputs": [
    {
     "data": {
      "image/png": "[encoded data removed]",
      "text/plain": [
       "<Figure size 432x288 with 1 Axes>"
      ]
     },
     "metadata": {
      "needs_background": "light"
     },
     "output_type": "display_data"
    }
   ],
   "source": [
    "by_field=sns.barplot(x='DEPARTAMENTO', y='ACEITE', data=departamento2018, palette=sns.color_palette(\"RdBu\", n_colors=7))\n",
    "for item in by_field.get_xticklabels():\n",
    "    item.set_rotation(45)"
   ]
  },
  {
   "cell_type": "markdown",
   "metadata": {},
   "source": [
    "# 9"
   ]
  },
  {
   "cell_type": "code",
   "execution_count": 39,
   "metadata": {},
   "outputs": [],
   "source": [
    "#Hago una lista con los nombres de las columnas del dataframe\n",
    "blind_column2017=blindaño2017.columns\n",
    "#hallo la posición de la columna que contiene a Enero\n",
    "for col in range(0,len(blind_column2017)):\n",
    "    if blind_column2017[col].lower() == 'enero':\n",
    "        j=col\n",
    "#Paso de formato wide a long sabiendo cual es la columna que contiene a enero, lugar desde el cual queremos hacer el pivote\n",
    "blind_table2017 = pd.melt(blindaño2017, id_vars=blind_column2017[0:j], var_name=\"MES\", value_name=\"ACEITE\")"
   ]
  },
  {
   "cell_type": "markdown",
   "metadata": {},
   "source": [
    "# Tabla de datos blind"
   ]
  },
  {
   "cell_type": "code",
   "execution_count": 40,
   "metadata": {},
   "outputs": [],
   "source": [
    "#Juntaré los 3 años en un data frame, para esto, voy a diferenciarlos por el año\n",
    "blind_table2017['YYYY'] = 2017\n",
    "blind_table2018['YYYY'] = 2018\n",
    "blind_table2019['YYYY'] = 2019"
   ]
  },
  {
   "cell_type": "code",
   "execution_count": 41,
   "metadata": {},
   "outputs": [],
   "source": [
    "#Ahora convertiré el mes a número para tener datos secuenciales MM-YYYY\n",
    "def mesnum(mes):\n",
    "    if mes.lower() == 'enero':\n",
    "        mesn = 1 \n",
    "    if mes.lower() == 'febrero':\n",
    "        mesn = 2 \n",
    "    if mes.lower() == 'marzo':\n",
    "        mesn = 3\n",
    "    if mes.lower() == 'abril':\n",
    "        mesn = 4 \n",
    "    if mes.lower() == 'mayo':\n",
    "        mesn = 5 \n",
    "    if mes.lower() == 'junio':\n",
    "        mesn = 6\n",
    "    if mes.lower() == 'julio':\n",
    "        mesn = 7 \n",
    "    if mes.lower() == 'agosto':\n",
    "        mesn = 8 \n",
    "    if mes.lower() == 'septiembre':\n",
    "        mesn = 9\n",
    "    if mes.lower() == 'octubre':\n",
    "        mesn = 10 \n",
    "    if mes.lower() == 'noviembre':\n",
    "        mesn = 11\n",
    "    if mes.lower() == 'diciembre':\n",
    "        mesn = 12\n",
    "    return mesn\n",
    "\n",
    "blind_table2017['MM'] = blind_table2017['MES'].apply(mesnum)\n",
    "blind_table2018['MM'] = blind_table2018['MES'].apply(mesnum)\n",
    "blind_table2019['MM'] = blind_table2019['MES'].apply(mesnum)\n",
    "\n",
    "#Concateno el mes y el año\n",
    "def concat(*args):\n",
    "    strs = [str(arg) for arg in args if not pd.isnull(arg)]\n",
    "    return '/'.join(strs) if strs else np.nan\n",
    "np_concat = np.vectorize(concat)\n",
    " \n",
    "blind_table2017['MM-YYYY'] = np_concat(blind_table2017['MM'], blind_table2017['YYYY'])\n",
    "blind_table2018['MM-YYYY'] = np_concat(blind_table2018['MM'], blind_table2018['YYYY'])\n",
    "blind_table2019['MM-YYYY'] = np_concat(blind_table2019['MM'], blind_table2019['YYYY'])\n",
    "\n",
    "#Realizo formato de fecha\n",
    "blind_table2017['FECHA'] = blind_table2017['MM-YYYY'].apply(lambda x: datetime.strptime(x, '%m/%Y'))\n",
    "blind_table2018['FECHA'] = blind_table2018['MM-YYYY'].apply(lambda x: datetime.strptime(x, '%m/%Y'))\n",
    "blind_table2019['FECHA'] = blind_table2019['MM-YYYY'].apply(lambda x: datetime.strptime(x, '%m/%Y'))\n",
    "\n",
    "#Borraré las columnas que creé para genera la fecha excepto año, la cual usaré para solucionar este punto\n",
    "blind_table2017.drop(['MES','MM','MM-YYYY'], axis = 'columns', inplace=True)\n",
    "blind_table2018.drop(['MES','MM','MM-YYYY'], axis = 'columns', inplace=True)\n",
    "blind_table2019.drop(['MES','MM','MM-YYYY'], axis = 'columns', inplace=True)\n",
    "\n",
    "#Dejamos todos los años en un solo df\n",
    "blind_table_comp= pd.concat([blind_table2017, blind_table2018, blind_table2019], ignore_index=True)"
   ]
  },
  {
   "cell_type": "code",
   "execution_count": 42,
   "metadata": {},
   "outputs": [
    {
     "data": {
      "text/html": [
       "<div>\n",
       "<style scoped>\n",
       "    .dataframe tbody tr th:only-of-type {\n",
       "        vertical-align: middle;\n",
       "    }\n",
       "\n",
       "    .dataframe tbody tr th {\n",
       "        vertical-align: top;\n",
       "    }\n",
       "\n",
       "    .dataframe thead th {\n",
       "        text-align: right;\n",
       "    }\n",
       "</style>\n",
       "<table border=\"1\" class=\"dataframe\">\n",
       "  <thead>\n",
       "    <tr style=\"text-align: right;\">\n",
       "      <th></th>\n",
       "      <th>DEPARTAMENTO</th>\n",
       "      <th>MUNICIPIO</th>\n",
       "      <th>OPERADORA</th>\n",
       "      <th>CONTRATO</th>\n",
       "      <th>CAMPO</th>\n",
       "      <th>ACEITE</th>\n",
       "      <th>YYYY</th>\n",
       "      <th>FECHA</th>\n",
       "    </tr>\n",
       "  </thead>\n",
       "  <tbody>\n",
       "    <tr>\n",
       "      <th>0</th>\n",
       "      <td>cf33cb8a</td>\n",
       "      <td>cf33cb8a</td>\n",
       "      <td>d5580f74</td>\n",
       "      <td>76a16657</td>\n",
       "      <td>1f d2689f</td>\n",
       "      <td>12371.083713</td>\n",
       "      <td>2017</td>\n",
       "      <td>2017-01-01</td>\n",
       "    </tr>\n",
       "    <tr>\n",
       "      <th>1</th>\n",
       "      <td>cf33cb8a</td>\n",
       "      <td>cf33cb8a</td>\n",
       "      <td>d5580f74</td>\n",
       "      <td>76a16657</td>\n",
       "      <td>9ac1420f</td>\n",
       "      <td>5.367156</td>\n",
       "      <td>2017</td>\n",
       "      <td>2017-01-01</td>\n",
       "    </tr>\n",
       "    <tr>\n",
       "      <th>2</th>\n",
       "      <td>cf33cb8a</td>\n",
       "      <td>cf33cb8a</td>\n",
       "      <td>d5580f74</td>\n",
       "      <td>76a16657</td>\n",
       "      <td>9b395bc9</td>\n",
       "      <td>120.462831</td>\n",
       "      <td>2017</td>\n",
       "      <td>2017-01-01</td>\n",
       "    </tr>\n",
       "    <tr>\n",
       "      <th>3</th>\n",
       "      <td>cf33cb8a</td>\n",
       "      <td>cf33cb8a</td>\n",
       "      <td>d5580f74</td>\n",
       "      <td>29ded6f4</td>\n",
       "      <td>2f614c0b</td>\n",
       "      <td>23208.879752</td>\n",
       "      <td>2017</td>\n",
       "      <td>2017-01-01</td>\n",
       "    </tr>\n",
       "    <tr>\n",
       "      <th>4</th>\n",
       "      <td>cf33cb8a</td>\n",
       "      <td>cf33cb8a</td>\n",
       "      <td>d5580f74</td>\n",
       "      <td>29ded6f4</td>\n",
       "      <td>043b305e</td>\n",
       "      <td>4386.088856</td>\n",
       "      <td>2017</td>\n",
       "      <td>2017-01-01</td>\n",
       "    </tr>\n",
       "    <tr>\n",
       "      <th>...</th>\n",
       "      <td>...</td>\n",
       "      <td>...</td>\n",
       "      <td>...</td>\n",
       "      <td>...</td>\n",
       "      <td>...</td>\n",
       "      <td>...</td>\n",
       "      <td>...</td>\n",
       "      <td>...</td>\n",
       "    </tr>\n",
       "    <tr>\n",
       "      <th>1459</th>\n",
       "      <td>0fa93c9b</td>\n",
       "      <td>756c486f</td>\n",
       "      <td>2fe52430</td>\n",
       "      <td>4b05ae15</td>\n",
       "      <td>373ebdec</td>\n",
       "      <td>1084.287554</td>\n",
       "      <td>2019</td>\n",
       "      <td>2019-12-01</td>\n",
       "    </tr>\n",
       "    <tr>\n",
       "      <th>1460</th>\n",
       "      <td>0fa93c9b</td>\n",
       "      <td>756c486f</td>\n",
       "      <td>2fe52430</td>\n",
       "      <td>4b05ae15</td>\n",
       "      <td>e32e23a1</td>\n",
       "      <td>414.497377</td>\n",
       "      <td>2019</td>\n",
       "      <td>2019-12-01</td>\n",
       "    </tr>\n",
       "    <tr>\n",
       "      <th>1461</th>\n",
       "      <td>657b6154</td>\n",
       "      <td>a6b36c07</td>\n",
       "      <td>ffd6d24d</td>\n",
       "      <td>38c31ea1</td>\n",
       "      <td>11e586b4</td>\n",
       "      <td>0.000000</td>\n",
       "      <td>2019</td>\n",
       "      <td>2019-12-01</td>\n",
       "    </tr>\n",
       "    <tr>\n",
       "      <th>1462</th>\n",
       "      <td>657b6154</td>\n",
       "      <td>a6b36c07</td>\n",
       "      <td>ffd6d24d</td>\n",
       "      <td>38c31ea1</td>\n",
       "      <td>11e586b4</td>\n",
       "      <td>408.016097</td>\n",
       "      <td>2019</td>\n",
       "      <td>2019-12-01</td>\n",
       "    </tr>\n",
       "    <tr>\n",
       "      <th>1463</th>\n",
       "      <td>657b6154</td>\n",
       "      <td>28b6a6a0</td>\n",
       "      <td>ffd6d24d</td>\n",
       "      <td>8568d01e</td>\n",
       "      <td>8568d01e</td>\n",
       "      <td>166.892938</td>\n",
       "      <td>2019</td>\n",
       "      <td>2019-12-01</td>\n",
       "    </tr>\n",
       "  </tbody>\n",
       "</table>\n",
       "<p>1464 rows × 8 columns</p>\n",
       "</div>"
      ],
      "text/plain": [
       "     DEPARTAMENTO MUNICIPIO OPERADORA  CONTRATO      CAMPO        ACEITE  \\\n",
       "0        cf33cb8a  cf33cb8a  d5580f74  76a16657  1f d2689f  12371.083713   \n",
       "1        cf33cb8a  cf33cb8a  d5580f74  76a16657   9ac1420f      5.367156   \n",
       "2        cf33cb8a  cf33cb8a  d5580f74  76a16657   9b395bc9    120.462831   \n",
       "3        cf33cb8a  cf33cb8a  d5580f74  29ded6f4   2f614c0b  23208.879752   \n",
       "4        cf33cb8a  cf33cb8a  d5580f74  29ded6f4   043b305e   4386.088856   \n",
       "...           ...       ...       ...       ...        ...           ...   \n",
       "1459     0fa93c9b  756c486f  2fe52430  4b05ae15   373ebdec   1084.287554   \n",
       "1460     0fa93c9b  756c486f  2fe52430  4b05ae15   e32e23a1    414.497377   \n",
       "1461     657b6154  a6b36c07  ffd6d24d  38c31ea1   11e586b4      0.000000   \n",
       "1462     657b6154  a6b36c07  ffd6d24d  38c31ea1   11e586b4    408.016097   \n",
       "1463     657b6154  28b6a6a0  ffd6d24d  8568d01e   8568d01e    166.892938   \n",
       "\n",
       "      YYYY      FECHA  \n",
       "0     2017 2017-01-01  \n",
       "1     2017 2017-01-01  \n",
       "2     2017 2017-01-01  \n",
       "3     2017 2017-01-01  \n",
       "4     2017 2017-01-01  \n",
       "...    ...        ...  \n",
       "1459  2019 2019-12-01  \n",
       "1460  2019 2019-12-01  \n",
       "1461  2019 2019-12-01  \n",
       "1462  2019 2019-12-01  \n",
       "1463  2019 2019-12-01  \n",
       "\n",
       "[1464 rows x 8 columns]"
      ]
     },
     "execution_count": 42,
     "metadata": {},
     "output_type": "execute_result"
    }
   ],
   "source": [
    "blind_table_comp"
   ]
  },
  {
   "cell_type": "code",
   "execution_count": 43,
   "metadata": {},
   "outputs": [],
   "source": [
    "depcampo = pd.pivot_table(blind_table_comp, values='ACEITE', index=['DEPARTAMENTO','CAMPO','YYYY'], aggfunc=np.mean).sort_values(by='ACEITE', ascending=False, na_position='first').reset_index()\n",
    "depcampo.drop(columns=['CAMPO','YYYY'],inplace=True)"
   ]
  },
  {
   "cell_type": "code",
   "execution_count": 44,
   "metadata": {},
   "outputs": [
    {
     "name": "stdout",
     "output_type": "stream",
     "text": [
      "               DEPARTAMENTO\n",
      "ACEITE  count  0fa93c9b            9.000000\n",
      "               5f559ecb            1.000000\n",
      "               657b6154            2.000000\n",
      "               cf33cb8a           70.000000\n",
      "               ec12ad00            3.000000\n",
      "               eccb9ef1            1.000000\n",
      "               f7fd2c4f           31.000000\n",
      "        mean   0fa93c9b         2460.323964\n",
      "               5f559ecb           14.576681\n",
      "               657b6154          147.434035\n",
      "               cf33cb8a         1819.576036\n",
      "               ec12ad00            5.415088\n",
      "               eccb9ef1           29.290088\n",
      "               f7fd2c4f         1056.621413\n",
      "        std    0fa93c9b         2537.313576\n",
      "               5f559ecb                 NaN\n",
      "               657b6154           74.044511\n",
      "               cf33cb8a         2928.122479\n",
      "               ec12ad00            8.328458\n",
      "               eccb9ef1                 NaN\n",
      "               f7fd2c4f         1219.352958\n",
      "        min    0fa93c9b          479.041021\n",
      "               5f559ecb           14.576681\n",
      "               657b6154           95.076659\n",
      "               cf33cb8a            0.374268\n",
      "               ec12ad00            0.122720\n",
      "               eccb9ef1           29.290088\n",
      "               f7fd2c4f           32.483481\n",
      "        25%    0fa93c9b          874.141684\n",
      "               5f559ecb           14.576681\n",
      "               657b6154          121.255347\n",
      "               cf33cb8a          132.634932\n",
      "               ec12ad00            0.615060\n",
      "               eccb9ef1           29.290088\n",
      "               f7fd2c4f          317.016578\n",
      "        50%    0fa93c9b          927.678493\n",
      "               5f559ecb           14.576681\n",
      "               657b6154          147.434035\n",
      "               cf33cb8a          404.799042\n",
      "               ec12ad00            1.107400\n",
      "               eccb9ef1           29.290088\n",
      "               f7fd2c4f          564.751948\n",
      "        75%    0fa93c9b         5131.886897\n",
      "               5f559ecb           14.576681\n",
      "               657b6154          173.612723\n",
      "               cf33cb8a         2849.668766\n",
      "               ec12ad00            8.061272\n",
      "               eccb9ef1           29.290088\n",
      "               f7fd2c4f         1690.345421\n",
      "        max    0fa93c9b         6650.664063\n",
      "               5f559ecb           14.576681\n",
      "               657b6154          199.791411\n",
      "               cf33cb8a        12458.858168\n",
      "               ec12ad00           15.015145\n",
      "               eccb9ef1           29.290088\n",
      "               f7fd2c4f         4714.695603\n",
      "dtype: float64\n"
     ]
    }
   ],
   "source": [
    "summary_blind_table=depcampo.groupby('DEPARTAMENTO').describe().unstack(1)\n",
    "print(summary_blind_table)"
   ]
  },
  {
   "cell_type": "code",
   "execution_count": 45,
   "metadata": {},
   "outputs": [
    {
     "data": {
      "image/png": "[encoded data removed]",
      "text/plain": [
       "<Figure size 432x288 with 1 Axes>"
      ]
     },
     "metadata": {},
     "output_type": "display_data"
    }
   ],
   "source": [
    "sns.set_theme(style=\"whitegrid\")\n",
    "ax = sns.violinplot(x=\"DEPARTAMENTO\", y=\"ACEITE\", \n",
    "                    data=depcampo, palette=\"muted\")"
   ]
  },
  {
   "cell_type": "markdown",
   "metadata": {},
   "source": [
    "Según los valores de desviación estandar, y el \"violin plot\" se observa claramente que el departamento cf33cb8a es el que tiene mayor variación en la producción promedio anual."
   ]
  },
  {
   "cell_type": "markdown",
   "metadata": {},
   "source": [
    "# 10"
   ]
  },
  {
   "cell_type": "code",
   "execution_count": 46,
   "metadata": {},
   "outputs": [],
   "source": [
    "blind_table_comp.drop(['YYYY'], axis = 'columns', inplace=True)"
   ]
  },
  {
   "cell_type": "code",
   "execution_count": 47,
   "metadata": {},
   "outputs": [],
   "source": [
    "#Grafica de los datos de producción en el tiempo Nota: Se realiza para que pueda ser graficado distintos campos al tiempo\n",
    "def RegularPlot(df, wells, units):\n",
    "    fig, ax = plt.subplots(figsize=(15,8))\n",
    "    plt.xlabel('Fecha')\n",
    "    plt.ylabel('ACEITE '+ units)\n",
    "    for well in wells:\n",
    "        df_filtered = df[df['CAMPO']==well]\n",
    "        rate = df_filtered['ACEITE']\n",
    "        date = df_filtered['FECHA']\n",
    "        ax.plot(date, rate, 'o', label=well)\n",
    "    ax.legend(shadow=True, fancybox=True)\n",
    "    return plt\n",
    "#Se normaliza la grafica anterior con pasos mensuales\n",
    "\n",
    "def NormalisedData(df, wells):\n",
    "    norm_data = {}\n",
    "    for well in wells:\n",
    "        df_filtered = df[df['CAMPO']==well]\n",
    "        start_date = min(df_filtered['FECHA'])\n",
    "        rate = df_filtered['ACEITE']\n",
    "        time = df_filtered['FECHA'] - start_date\n",
    "        time = time.dt.days\n",
    "        norm_data[well] = {\n",
    "            'rate': rate,\n",
    "            'time': time\n",
    "        }\n",
    "    return norm_data\n",
    "\n",
    "def NormalisedPlot(df, wells):\n",
    "    fig, ax = plt.subplots(figsize=(15, 8))\n",
    "    plt.xlabel('DIAS')\n",
    "    plt.ylabel('ACEITE')\n",
    "    for well in wells:\n",
    "        df_filtered = df[df['CAMPO']==well]\n",
    "        start_date = min(df_filtered['FECHA'])\n",
    "        rate = df_filtered['ACEITE']\n",
    "        time = df_filtered['FECHA'] - start_date\n",
    "        time = time.dt.days\n",
    "        ax.plot(time, rate, 'o', label=well)\n",
    "    ax.legend(shadow=True, fancybox=True)\n",
    "    return plt"
   ]
  },
  {
   "cell_type": "code",
   "execution_count": 48,
   "metadata": {},
   "outputs": [],
   "source": [
    "campo = ['51cbb05d']\n",
    "dfcampo = blind_table_comp.drop(columns=['DEPARTAMENTO','MUNICIPIO','OPERADORA','CONTRATO']).reset_index(drop=True)"
   ]
  },
  {
   "cell_type": "code",
   "execution_count": 58,
   "metadata": {},
   "outputs": [
    {
     "data": {
      "text/html": [
       "<div>\n",
       "<style scoped>\n",
       "    .dataframe tbody tr th:only-of-type {\n",
       "        vertical-align: middle;\n",
       "    }\n",
       "\n",
       "    .dataframe tbody tr th {\n",
       "        vertical-align: top;\n",
       "    }\n",
       "\n",
       "    .dataframe thead th {\n",
       "        text-align: right;\n",
       "    }\n",
       "</style>\n",
       "<table border=\"1\" class=\"dataframe\">\n",
       "  <thead>\n",
       "    <tr style=\"text-align: right;\">\n",
       "      <th></th>\n",
       "      <th>CAMPO</th>\n",
       "      <th>ACEITE</th>\n",
       "      <th>FECHA</th>\n",
       "    </tr>\n",
       "  </thead>\n",
       "  <tbody>\n",
       "    <tr>\n",
       "      <th>0</th>\n",
       "      <td>1f d2689f</td>\n",
       "      <td>12371.083713</td>\n",
       "      <td>2017-01-01</td>\n",
       "    </tr>\n",
       "    <tr>\n",
       "      <th>1</th>\n",
       "      <td>9ac1420f</td>\n",
       "      <td>5.367156</td>\n",
       "      <td>2017-01-01</td>\n",
       "    </tr>\n",
       "    <tr>\n",
       "      <th>2</th>\n",
       "      <td>9b395bc9</td>\n",
       "      <td>120.462831</td>\n",
       "      <td>2017-01-01</td>\n",
       "    </tr>\n",
       "    <tr>\n",
       "      <th>3</th>\n",
       "      <td>2f614c0b</td>\n",
       "      <td>23208.879752</td>\n",
       "      <td>2017-01-01</td>\n",
       "    </tr>\n",
       "    <tr>\n",
       "      <th>4</th>\n",
       "      <td>043b305e</td>\n",
       "      <td>4386.088856</td>\n",
       "      <td>2017-01-01</td>\n",
       "    </tr>\n",
       "    <tr>\n",
       "      <th>...</th>\n",
       "      <td>...</td>\n",
       "      <td>...</td>\n",
       "      <td>...</td>\n",
       "    </tr>\n",
       "    <tr>\n",
       "      <th>1459</th>\n",
       "      <td>373ebdec</td>\n",
       "      <td>1084.287554</td>\n",
       "      <td>2019-12-01</td>\n",
       "    </tr>\n",
       "    <tr>\n",
       "      <th>1460</th>\n",
       "      <td>e32e23a1</td>\n",
       "      <td>414.497377</td>\n",
       "      <td>2019-12-01</td>\n",
       "    </tr>\n",
       "    <tr>\n",
       "      <th>1461</th>\n",
       "      <td>11e586b4</td>\n",
       "      <td>0.000000</td>\n",
       "      <td>2019-12-01</td>\n",
       "    </tr>\n",
       "    <tr>\n",
       "      <th>1462</th>\n",
       "      <td>11e586b4</td>\n",
       "      <td>408.016097</td>\n",
       "      <td>2019-12-01</td>\n",
       "    </tr>\n",
       "    <tr>\n",
       "      <th>1463</th>\n",
       "      <td>8568d01e</td>\n",
       "      <td>166.892938</td>\n",
       "      <td>2019-12-01</td>\n",
       "    </tr>\n",
       "  </tbody>\n",
       "</table>\n",
       "<p>1464 rows × 3 columns</p>\n",
       "</div>"
      ],
      "text/plain": [
       "          CAMPO        ACEITE      FECHA\n",
       "0     1f d2689f  12371.083713 2017-01-01\n",
       "1      9ac1420f      5.367156 2017-01-01\n",
       "2      9b395bc9    120.462831 2017-01-01\n",
       "3      2f614c0b  23208.879752 2017-01-01\n",
       "4      043b305e   4386.088856 2017-01-01\n",
       "...         ...           ...        ...\n",
       "1459   373ebdec   1084.287554 2019-12-01\n",
       "1460   e32e23a1    414.497377 2019-12-01\n",
       "1461   11e586b4      0.000000 2019-12-01\n",
       "1462   11e586b4    408.016097 2019-12-01\n",
       "1463   8568d01e    166.892938 2019-12-01\n",
       "\n",
       "[1464 rows x 3 columns]"
      ]
     },
     "execution_count": 58,
     "metadata": {},
     "output_type": "execute_result"
    }
   ],
   "source": [
    "dfcampo"
   ]
  },
  {
   "cell_type": "code",
   "execution_count": 49,
   "metadata": {},
   "outputs": [
    {
     "data": {
      "image/png": "[encoded data removed]",
      "text/plain": [
       "<Figure size 1080x576 with 1 Axes>"
      ]
     },
     "metadata": {},
     "output_type": "display_data"
    }
   ],
   "source": [
    "plot_data = RegularPlot (dfcampo, campo, 'BOPM')"
   ]
  },
  {
   "cell_type": "code",
   "execution_count": 50,
   "metadata": {},
   "outputs": [
    {
     "data": {
      "image/png": "[encoded data removed]",
      "text/plain": [
       "<Figure size 1080x576 with 1 Axes>"
      ]
     },
     "metadata": {},
     "output_type": "display_data"
    }
   ],
   "source": [
    "normalised_data = NormalisedData(dfcampo, campo)\n",
    "normalised_plot = NormalisedPlot(dfcampo, campo)"
   ]
  },
  {
   "cell_type": "code",
   "execution_count": 56,
   "metadata": {},
   "outputs": [
    {
     "ename": "SyntaxError",
     "evalue": "invalid syntax (<ipython-input-56-1e2ede726099>, line 20)",
     "output_type": "error",
     "traceback": [
      "\u001b[1;36m  File \u001b[1;32m\"<ipython-input-56-1e2ede726099>\"\u001b[1;36m, line \u001b[1;32m20\u001b[0m\n\u001b[1;33m    popt, pcov = curve_fit(arps, X_arps, Y_arps, bounds=([0, 0],[Maxrate, 0.1]))\u001b[0m\n\u001b[1;37m               ^\u001b[0m\n\u001b[1;31mSyntaxError\u001b[0m\u001b[1;31m:\u001b[0m invalid syntax\n"
     ]
    }
   ],
   "source": [
    "#Se dejará todo expresado de tal manera que si quiere realizar un tiempo de prueba y otro tiempo de testeo de la ecuación, solo deba cambiar \"datat\" y quitar el númeral de las dos lineas de código comentada\n",
    "#Esto se hace ya que es algo común en métodos de machine learning\n",
    "def arps(t, initial_rate, decline): \n",
    "    #Definimos la función de ARPS\n",
    "    #Declinación hiperbolica con b=0.5\n",
    "    values = initial_rate / ((1 + 0.5 * decline * t) ** (1 / 0.5))      \n",
    "    return values\n",
    "#Haremos un ajuste de una curva a la ecuación de arps con los datos de producción.\n",
    "#Se harán dos escenarios, tomando como tasa inicial el mayor dato de producción y otra dejando que el ajuste la elija\n",
    "fitdict1={}\n",
    "for well in campo:\n",
    "    #Leemos los datos normalizados de mes y producción\n",
    "    X_p = normalised_data[well]['time']        \n",
    "    Y_p = normalised_data[well]['rate']\n",
    "    X_arps=X_p[:int(len(X_p))]           \n",
    "    Y_arps=Y_p[:int(len(Y_p))]\n",
    "    #Se lee la mayor la tasa de producción\n",
    "    Maxrate=max(Y_arps)   \n",
    "    #Se realiza un ajuste a la ecuación de Arps \n",
    "    fitdict1[well]={\n",
    "    popt, pcov = curve_fit(arps, X_arps, Y_arps, bounds=([0, 0],[Maxrate, 0.1]))    \n",
    "      'initial rate': popt[0],\n",
    "      'decline rate': popt[1] \n",
    "    }\n",
    "datat=0\n",
    "time_predict=[]\n",
    "rate_predict=[]\n",
    "arps_predict={}\n",
    "for well in campo:\n",
    "    #Acá es donde se supone que hará un \"split data\"\n",
    "    X_p = normalised_data[well]['time']\n",
    "    time_train=X_p[:int(len(X_p)*datat)]   \n",
    "    time_predict=X_p[int(len(X_p)*datat):]   \n",
    "    Y_p = normalised_data[well]['rate']\n",
    "    rate_test=Y_p[int(len(Y_p)*datat):]\n",
    "    #Con los parametros ajustados en el ciclo pasado, generamos la curva de ARPS\n",
    "    for time in time_predict:\n",
    "        rate_predict=arps(time_predict, fitdict1[well]['initial rate'], fitdict[well]['decline rate'])\n",
    "        #rate_train=arps(time_train, fitdict[well]['beta'], fitdict[well]['initial rate'], fitdict[well]['decline rate'])\n",
    "    arps_predict[well]={\n",
    "        'time':time_predict,\n",
    "        'rate':rate_predict\n",
    "    }\n",
    "    plt.scatter(X_p, Y_p)\n",
    "    plt.plot(time_predict, rate_predict, color='green', linewidth=3)\n",
    "    #plt.plot(time_train, rate_train, color='red', linewidth=3)\n",
    "    plt.xlabel('Days')\n",
    "    plt.ylabel('Rate')\n",
    "    plt.title('Arps equation')\n",
    "    plt.show()"
   ]
  },
  {
   "cell_type": "code",
   "execution_count": 57,
   "metadata": {},
   "outputs": [
    {
     "ename": "NameError",
     "evalue": "name 'Maxrate' is not defined",
     "output_type": "error",
     "traceback": [
      "\u001b[1;31m---------------------------------------------------------------------------\u001b[0m",
      "\u001b[1;31mNameError\u001b[0m                                 Traceback (most recent call last)",
      "\u001b[1;32m<ipython-input-57-15bf4df17e61>\u001b[0m in \u001b[0;36m<module>\u001b[1;34m\u001b[0m\n\u001b[0;32m     12\u001b[0m     \u001b[0mY_arps\u001b[0m\u001b[1;33m=\u001b[0m\u001b[0mY_p\u001b[0m\u001b[1;33m[\u001b[0m\u001b[1;33m:\u001b[0m\u001b[0mint\u001b[0m\u001b[1;33m(\u001b[0m\u001b[0mlen\u001b[0m\u001b[1;33m(\u001b[0m\u001b[0mY_p\u001b[0m\u001b[1;33m)\u001b[0m\u001b[1;33m)\u001b[0m\u001b[1;33m]\u001b[0m\u001b[1;33m\u001b[0m\u001b[1;33m\u001b[0m\u001b[0m\n\u001b[0;32m     13\u001b[0m \u001b[1;33m\u001b[0m\u001b[0m\n\u001b[1;32m---> 14\u001b[1;33m     \u001b[0mpopt\u001b[0m\u001b[1;33m,\u001b[0m \u001b[0mpcov\u001b[0m \u001b[1;33m=\u001b[0m \u001b[0mcurve_fit\u001b[0m\u001b[1;33m(\u001b[0m\u001b[0marps\u001b[0m\u001b[1;33m,\u001b[0m \u001b[0mX_arps\u001b[0m\u001b[1;33m,\u001b[0m \u001b[0mY_arps\u001b[0m\u001b[1;33m,\u001b[0m \u001b[0mbounds\u001b[0m\u001b[1;33m=\u001b[0m\u001b[1;33m(\u001b[0m\u001b[1;33m[\u001b[0m\u001b[1;36m0\u001b[0m\u001b[1;33m]\u001b[0m\u001b[1;33m,\u001b[0m\u001b[1;33m[\u001b[0m\u001b[1;36m0.1\u001b[0m\u001b[1;33m]\u001b[0m\u001b[1;33m)\u001b[0m\u001b[1;33m)\u001b[0m    \u001b[1;31m#Se realiza un ajuste a la ecuación de Arps usando esos limites y los datos de entrenamiento\u001b[0m\u001b[1;33m\u001b[0m\u001b[1;33m\u001b[0m\u001b[0m\n\u001b[0m\u001b[0;32m     15\u001b[0m     fitdict2[well]={\n\u001b[0;32m     16\u001b[0m \u001b[1;33m\u001b[0m\u001b[0m\n",
      "\u001b[1;32m~\\AppData\\Roaming\\Python\\Python37\\site-packages\\scipy\\optimize\\minpack.py\u001b[0m in \u001b[0;36mcurve_fit\u001b[1;34m(f, xdata, ydata, p0, sigma, absolute_sigma, check_finite, bounds, method, jac, **kwargs)\u001b[0m\n\u001b[0;32m    794\u001b[0m \u001b[1;33m\u001b[0m\u001b[0m\n\u001b[0;32m    795\u001b[0m         res = least_squares(func, p0, jac=jac, bounds=bounds, method=method,\n\u001b[1;32m--> 796\u001b[1;33m                             **kwargs)\n\u001b[0m\u001b[0;32m    797\u001b[0m \u001b[1;33m\u001b[0m\u001b[0m\n\u001b[0;32m    798\u001b[0m         \u001b[1;32mif\u001b[0m \u001b[1;32mnot\u001b[0m \u001b[0mres\u001b[0m\u001b[1;33m.\u001b[0m\u001b[0msuccess\u001b[0m\u001b[1;33m:\u001b[0m\u001b[1;33m\u001b[0m\u001b[1;33m\u001b[0m\u001b[0m\n",
      "\u001b[1;32m~\\AppData\\Roaming\\Python\\Python37\\site-packages\\scipy\\optimize\\_lsq\\least_squares.py\u001b[0m in \u001b[0;36mleast_squares\u001b[1;34m(fun, x0, jac, bounds, method, ftol, xtol, gtol, x_scale, loss, f_scale, diff_step, tr_solver, tr_options, jac_sparsity, max_nfev, verbose, args, kwargs)\u001b[0m\n\u001b[0;32m    805\u001b[0m         \u001b[0mx0\u001b[0m \u001b[1;33m=\u001b[0m \u001b[0mmake_strictly_feasible\u001b[0m\u001b[1;33m(\u001b[0m\u001b[0mx0\u001b[0m\u001b[1;33m,\u001b[0m \u001b[0mlb\u001b[0m\u001b[1;33m,\u001b[0m \u001b[0mub\u001b[0m\u001b[1;33m)\u001b[0m\u001b[1;33m\u001b[0m\u001b[1;33m\u001b[0m\u001b[0m\n\u001b[0;32m    806\u001b[0m \u001b[1;33m\u001b[0m\u001b[0m\n\u001b[1;32m--> 807\u001b[1;33m     \u001b[0mf0\u001b[0m \u001b[1;33m=\u001b[0m \u001b[0mfun_wrapped\u001b[0m\u001b[1;33m(\u001b[0m\u001b[0mx0\u001b[0m\u001b[1;33m)\u001b[0m\u001b[1;33m\u001b[0m\u001b[1;33m\u001b[0m\u001b[0m\n\u001b[0m\u001b[0;32m    808\u001b[0m \u001b[1;33m\u001b[0m\u001b[0m\n\u001b[0;32m    809\u001b[0m     \u001b[1;32mif\u001b[0m \u001b[0mf0\u001b[0m\u001b[1;33m.\u001b[0m\u001b[0mndim\u001b[0m \u001b[1;33m!=\u001b[0m \u001b[1;36m1\u001b[0m\u001b[1;33m:\u001b[0m\u001b[1;33m\u001b[0m\u001b[1;33m\u001b[0m\u001b[0m\n",
      "\u001b[1;32m~\\AppData\\Roaming\\Python\\Python37\\site-packages\\scipy\\optimize\\_lsq\\least_squares.py\u001b[0m in \u001b[0;36mfun_wrapped\u001b[1;34m(x)\u001b[0m\n\u001b[0;32m    800\u001b[0m \u001b[1;33m\u001b[0m\u001b[0m\n\u001b[0;32m    801\u001b[0m     \u001b[1;32mdef\u001b[0m \u001b[0mfun_wrapped\u001b[0m\u001b[1;33m(\u001b[0m\u001b[0mx\u001b[0m\u001b[1;33m)\u001b[0m\u001b[1;33m:\u001b[0m\u001b[1;33m\u001b[0m\u001b[1;33m\u001b[0m\u001b[0m\n\u001b[1;32m--> 802\u001b[1;33m         \u001b[1;32mreturn\u001b[0m \u001b[0mnp\u001b[0m\u001b[1;33m.\u001b[0m\u001b[0matleast_1d\u001b[0m\u001b[1;33m(\u001b[0m\u001b[0mfun\u001b[0m\u001b[1;33m(\u001b[0m\u001b[0mx\u001b[0m\u001b[1;33m,\u001b[0m \u001b[1;33m*\u001b[0m\u001b[0margs\u001b[0m\u001b[1;33m,\u001b[0m \u001b[1;33m**\u001b[0m\u001b[0mkwargs\u001b[0m\u001b[1;33m)\u001b[0m\u001b[1;33m)\u001b[0m\u001b[1;33m\u001b[0m\u001b[1;33m\u001b[0m\u001b[0m\n\u001b[0m\u001b[0;32m    803\u001b[0m \u001b[1;33m\u001b[0m\u001b[0m\n\u001b[0;32m    804\u001b[0m     \u001b[1;32mif\u001b[0m \u001b[0mmethod\u001b[0m \u001b[1;33m==\u001b[0m \u001b[1;34m'trf'\u001b[0m\u001b[1;33m:\u001b[0m\u001b[1;33m\u001b[0m\u001b[1;33m\u001b[0m\u001b[0m\n",
      "\u001b[1;32m~\\AppData\\Roaming\\Python\\Python37\\site-packages\\scipy\\optimize\\minpack.py\u001b[0m in \u001b[0;36mfunc_wrapped\u001b[1;34m(params)\u001b[0m\n\u001b[0;32m    482\u001b[0m     \u001b[1;32mif\u001b[0m \u001b[0mtransform\u001b[0m \u001b[1;32mis\u001b[0m \u001b[1;32mNone\u001b[0m\u001b[1;33m:\u001b[0m\u001b[1;33m\u001b[0m\u001b[1;33m\u001b[0m\u001b[0m\n\u001b[0;32m    483\u001b[0m         \u001b[1;32mdef\u001b[0m \u001b[0mfunc_wrapped\u001b[0m\u001b[1;33m(\u001b[0m\u001b[0mparams\u001b[0m\u001b[1;33m)\u001b[0m\u001b[1;33m:\u001b[0m\u001b[1;33m\u001b[0m\u001b[1;33m\u001b[0m\u001b[0m\n\u001b[1;32m--> 484\u001b[1;33m             \u001b[1;32mreturn\u001b[0m \u001b[0mfunc\u001b[0m\u001b[1;33m(\u001b[0m\u001b[0mxdata\u001b[0m\u001b[1;33m,\u001b[0m \u001b[1;33m*\u001b[0m\u001b[0mparams\u001b[0m\u001b[1;33m)\u001b[0m \u001b[1;33m-\u001b[0m \u001b[0mydata\u001b[0m\u001b[1;33m\u001b[0m\u001b[1;33m\u001b[0m\u001b[0m\n\u001b[0m\u001b[0;32m    485\u001b[0m     \u001b[1;32melif\u001b[0m \u001b[0mtransform\u001b[0m\u001b[1;33m.\u001b[0m\u001b[0mndim\u001b[0m \u001b[1;33m==\u001b[0m \u001b[1;36m1\u001b[0m\u001b[1;33m:\u001b[0m\u001b[1;33m\u001b[0m\u001b[1;33m\u001b[0m\u001b[0m\n\u001b[0;32m    486\u001b[0m         \u001b[1;32mdef\u001b[0m \u001b[0mfunc_wrapped\u001b[0m\u001b[1;33m(\u001b[0m\u001b[0mparams\u001b[0m\u001b[1;33m)\u001b[0m\u001b[1;33m:\u001b[0m\u001b[1;33m\u001b[0m\u001b[1;33m\u001b[0m\u001b[0m\n",
      "\u001b[1;32m<ipython-input-57-15bf4df17e61>\u001b[0m in \u001b[0;36marps\u001b[1;34m(t, decline)\u001b[0m\n\u001b[0;32m      2\u001b[0m         \u001b[1;31m#Declinación hiperbolica\u001b[0m\u001b[1;33m\u001b[0m\u001b[1;33m\u001b[0m\u001b[1;33m\u001b[0m\u001b[0m\n\u001b[0;32m      3\u001b[0m         \u001b[1;31m#Acá hacemos uso de la tasa que se halló en el método pasado para fijar la tasa inicial\u001b[0m\u001b[1;33m\u001b[0m\u001b[1;33m\u001b[0m\u001b[1;33m\u001b[0m\u001b[0m\n\u001b[1;32m----> 4\u001b[1;33m     \u001b[0mvalues\u001b[0m \u001b[1;33m=\u001b[0m \u001b[0mMaxrate\u001b[0m \u001b[1;33m/\u001b[0m \u001b[1;33m(\u001b[0m\u001b[1;33m(\u001b[0m\u001b[1;36m1\u001b[0m \u001b[1;33m+\u001b[0m \u001b[1;36m0.5\u001b[0m \u001b[1;33m*\u001b[0m \u001b[0mdecline\u001b[0m \u001b[1;33m*\u001b[0m \u001b[0mt\u001b[0m\u001b[1;33m)\u001b[0m \u001b[1;33m**\u001b[0m \u001b[1;33m(\u001b[0m\u001b[1;36m1\u001b[0m \u001b[1;33m/\u001b[0m \u001b[1;36m0.5\u001b[0m\u001b[1;33m)\u001b[0m\u001b[1;33m)\u001b[0m\u001b[1;33m\u001b[0m\u001b[1;33m\u001b[0m\u001b[0m\n\u001b[0m\u001b[0;32m      5\u001b[0m     \u001b[1;32mreturn\u001b[0m \u001b[0mvalues\u001b[0m\u001b[1;33m\u001b[0m\u001b[1;33m\u001b[0m\u001b[0m\n\u001b[0;32m      6\u001b[0m \u001b[1;33m\u001b[0m\u001b[0m\n",
      "\u001b[1;31mNameError\u001b[0m: name 'Maxrate' is not defined"
     ]
    }
   ],
   "source": [
    "def arps(t, decline):   #Definimos la función de ARPS\n",
    "        #Declinación hiperbolica\n",
    "        #Acá hacemos uso de la tasa que se halló en el método pasado para fijar la tasa inicial\n",
    "    values = Maxrate / ((1 + 0.5 * decline * t) ** (1 / 0.5))      \n",
    "    return values\n",
    "\n",
    "fitdict2={}\n",
    "for well in campo:\n",
    "    X_p = normalised_data[well]['time']        \n",
    "    Y_p = normalised_data[well]['rate']\n",
    "    X_arps=X_p[:int(len(X_p))]           \n",
    "    Y_arps=Y_p[:int(len(Y_p))]\n",
    "                       \n",
    "    popt, pcov = curve_fit(arps, X_arps, Y_arps, bounds=([0],[0.1]))    #Se realiza un ajuste a la ecuación de Arps usando esos limites y los datos de entrenamiento\n",
    "    fitdict2[well]={\n",
    "      \n",
    "      'decline rate': popt[0] \n",
    "    }\n",
    "datat=0\n",
    "time_predict=[]\n",
    "rate_predict=[]\n",
    "arps_predict={}\n",
    "for well in campo:\n",
    "    X_p = normalised_data[well]['time']\n",
    "    time_train=X_p[:int(len(X_p)*datat)]   \n",
    "    time_predict=X_p[int(len(X_p)*datat):]    #20% de los datos como prueba\n",
    "    Y_p = normalised_data[well]['rate']\n",
    "    rate_test=Y_p[int(len(Y_p)*datat):]\n",
    "    for time in time_predict:\n",
    "        rate_predict=arps(time_predict, fitdict2[well]['decline rate'])\n",
    "        #rate_train=arps(time_train, fitdict[well]['beta'], fitdict[well]['initial rate'], fitdict[well]['decline rate'])\n",
    "    arps_predict[well]={\n",
    "        'time':time_predict,\n",
    "        'rate':rate_predict\n",
    "    }\n",
    "    plt.scatter(X_p, Y_p)\n",
    "    plt.plot(time_predict, rate_predict, color='green', linewidth=3)\n",
    "    #plt.plot(time_train, rate_train, color='red', linewidth=3)\n",
    "    plt.xlabel('Days')\n",
    "    plt.ylabel('Rate')\n",
    "    plt.title('Arps equation')\n",
    "    plt.show()"
   ]
  },
  {
   "cell_type": "code",
   "execution_count": null,
   "metadata": {},
   "outputs": [],
   "source": [
    "print('Se dejan dos tasas de declinación para que a consideración del lector elija la que considere correcta')\n",
    "print('Por el primer método (Tasa inicial variable) se tiene una tasa de declinación de',fitdict1['51cbb05d']['decline rate'])\n",
    "print('Por el segundo método (Tasa inicial fija) se tiene una tasa de declinación de',fitdict2['51cbb05d']['decline rate'])"
   ]
  }
 ],
 "metadata": {
  "kernelspec": {
   "display_name": "Python 3",
   "language": "python",
   "name": "python3"
  },
  "language_info": {
   "codemirror_mode": {
    "name": "ipython",
    "version": 3
   },
   "file_extension": ".py",
   "mimetype": "text/x-python",
   "name": "python",
   "nbconvert_exporter": "python",
   "pygments_lexer": "ipython3",
   "version": "3.7.7"
  }
 },
 "nbformat": 4,
 "nbformat_minor": 4
}
